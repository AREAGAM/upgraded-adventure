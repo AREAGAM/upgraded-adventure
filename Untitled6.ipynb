{
  "nbformat": 4,
  "nbformat_minor": 0,
  "metadata": {
    "colab": {
      "name": "Untitled6.ipynb",
      "provenance": [],
      "collapsed_sections": [],
      "authorship_tag": "ABX9TyMcMuxkK5hdeSwoywPaWJoJ",
      "include_colab_link": true
    },
    "kernelspec": {
      "name": "python3",
      "display_name": "Python 3"
    },
    "language_info": {
      "name": "python"
    }
  },
  "cells": [
    {
      "cell_type": "markdown",
      "metadata": {
        "id": "view-in-github",
        "colab_type": "text"
      },
      "source": [
        "<a href=\"https://colab.research.google.com/github/AREAGAM/upgraded-adventure/blob/main/Untitled6.ipynb\" target=\"_parent\"><img src=\"https://colab.research.google.com/assets/colab-badge.svg\" alt=\"Open In Colab\"/></a>"
      ]
    },
    {
      "cell_type": "code",
      "execution_count": 11,
      "metadata": {
        "id": "I2HS2YOwvjw5"
      },
      "outputs": [],
      "source": [
        "import pandas as pd\n",
        "from sklearn.cluster import KMeans\n",
        "import matplotlib.pyplot as plt"
      ]
    },
    {
      "cell_type": "code",
      "source": [
        "from google.colab import drive\n",
        "import os\n",
        "\n",
        "# Place the dataset in your Google Drive \n",
        "drive.mount(\"/content/drive\")\n",
        "\n",
        "# Set csv file path\n",
        "PATH = \"/content/drive/My Drive/abalone_train.csv\""
      ],
      "metadata": {
        "colab": {
          "base_uri": "https://localhost:8080/"
        },
        "id": "iHsvn3MXxgRs",
        "outputId": "bc8afdcd-ddd8-4711-db97-a8fb341a2f0c"
      },
      "execution_count": 12,
      "outputs": [
        {
          "output_type": "stream",
          "name": "stdout",
          "text": [
            "Mounted at /content/drive\n"
          ]
        }
      ]
    },
    {
      "cell_type": "code",
      "source": [
        "df = pd.read_csv(PATH)\n",
        "df\n",
        "df.describe()"
      ],
      "metadata": {
        "colab": {
          "base_uri": "https://localhost:8080/",
          "height": 300
        },
        "id": "mLtCET29x_Sz",
        "outputId": "dd24c0fe-a51b-4650-dc16-ade71cc02a81"
      },
      "execution_count": 13,
      "outputs": [
        {
          "output_type": "execute_result",
          "data": {
            "text/html": [
              "\n",
              "  <div id=\"df-e98d3961-e63b-4ab4-85aa-072cdb60d137\">\n",
              "    <div class=\"colab-df-container\">\n",
              "      <div>\n",
              "<style scoped>\n",
              "    .dataframe tbody tr th:only-of-type {\n",
              "        vertical-align: middle;\n",
              "    }\n",
              "\n",
              "    .dataframe tbody tr th {\n",
              "        vertical-align: top;\n",
              "    }\n",
              "\n",
              "    .dataframe thead th {\n",
              "        text-align: right;\n",
              "    }\n",
              "</style>\n",
              "<table border=\"1\" class=\"dataframe\">\n",
              "  <thead>\n",
              "    <tr style=\"text-align: right;\">\n",
              "      <th></th>\n",
              "      <th>0.435</th>\n",
              "      <th>0.335</th>\n",
              "      <th>0.11</th>\n",
              "      <th>0.334</th>\n",
              "      <th>0.1355</th>\n",
              "      <th>0.0775</th>\n",
              "      <th>0.0965</th>\n",
              "      <th>7</th>\n",
              "    </tr>\n",
              "  </thead>\n",
              "  <tbody>\n",
              "    <tr>\n",
              "      <th>count</th>\n",
              "      <td>3319.000000</td>\n",
              "      <td>3319.000000</td>\n",
              "      <td>3319.000000</td>\n",
              "      <td>3319.000000</td>\n",
              "      <td>3319.000000</td>\n",
              "      <td>3319.000000</td>\n",
              "      <td>3319.000000</td>\n",
              "      <td>3319.000000</td>\n",
              "    </tr>\n",
              "    <tr>\n",
              "      <th>mean</th>\n",
              "      <td>0.522719</td>\n",
              "      <td>0.406597</td>\n",
              "      <td>0.139280</td>\n",
              "      <td>0.824882</td>\n",
              "      <td>0.357772</td>\n",
              "      <td>0.180193</td>\n",
              "      <td>0.237963</td>\n",
              "      <td>9.897861</td>\n",
              "    </tr>\n",
              "    <tr>\n",
              "      <th>std</th>\n",
              "      <td>0.121172</td>\n",
              "      <td>0.100127</td>\n",
              "      <td>0.042712</td>\n",
              "      <td>0.491182</td>\n",
              "      <td>0.222223</td>\n",
              "      <td>0.110184</td>\n",
              "      <td>0.140261</td>\n",
              "      <td>3.205743</td>\n",
              "    </tr>\n",
              "    <tr>\n",
              "      <th>min</th>\n",
              "      <td>0.075000</td>\n",
              "      <td>0.055000</td>\n",
              "      <td>0.000000</td>\n",
              "      <td>0.002000</td>\n",
              "      <td>0.001000</td>\n",
              "      <td>0.000500</td>\n",
              "      <td>0.001500</td>\n",
              "      <td>1.000000</td>\n",
              "    </tr>\n",
              "    <tr>\n",
              "      <th>25%</th>\n",
              "      <td>0.450000</td>\n",
              "      <td>0.345000</td>\n",
              "      <td>0.115000</td>\n",
              "      <td>0.436500</td>\n",
              "      <td>0.181500</td>\n",
              "      <td>0.092000</td>\n",
              "      <td>0.127500</td>\n",
              "      <td>8.000000</td>\n",
              "    </tr>\n",
              "    <tr>\n",
              "      <th>50%</th>\n",
              "      <td>0.540000</td>\n",
              "      <td>0.425000</td>\n",
              "      <td>0.140000</td>\n",
              "      <td>0.795500</td>\n",
              "      <td>0.335500</td>\n",
              "      <td>0.171000</td>\n",
              "      <td>0.230000</td>\n",
              "      <td>9.000000</td>\n",
              "    </tr>\n",
              "    <tr>\n",
              "      <th>75%</th>\n",
              "      <td>0.615000</td>\n",
              "      <td>0.480000</td>\n",
              "      <td>0.165000</td>\n",
              "      <td>1.150000</td>\n",
              "      <td>0.504500</td>\n",
              "      <td>0.253250</td>\n",
              "      <td>0.325000</td>\n",
              "      <td>11.000000</td>\n",
              "    </tr>\n",
              "    <tr>\n",
              "      <th>max</th>\n",
              "      <td>0.815000</td>\n",
              "      <td>0.650000</td>\n",
              "      <td>1.130000</td>\n",
              "      <td>2.825500</td>\n",
              "      <td>1.488000</td>\n",
              "      <td>0.760000</td>\n",
              "      <td>1.005000</td>\n",
              "      <td>27.000000</td>\n",
              "    </tr>\n",
              "  </tbody>\n",
              "</table>\n",
              "</div>\n",
              "      <button class=\"colab-df-convert\" onclick=\"convertToInteractive('df-e98d3961-e63b-4ab4-85aa-072cdb60d137')\"\n",
              "              title=\"Convert this dataframe to an interactive table.\"\n",
              "              style=\"display:none;\">\n",
              "        \n",
              "  <svg xmlns=\"http://www.w3.org/2000/svg\" height=\"24px\"viewBox=\"0 0 24 24\"\n",
              "       width=\"24px\">\n",
              "    <path d=\"M0 0h24v24H0V0z\" fill=\"none\"/>\n",
              "    <path d=\"M18.56 5.44l.94 2.06.94-2.06 2.06-.94-2.06-.94-.94-2.06-.94 2.06-2.06.94zm-11 1L8.5 8.5l.94-2.06 2.06-.94-2.06-.94L8.5 2.5l-.94 2.06-2.06.94zm10 10l.94 2.06.94-2.06 2.06-.94-2.06-.94-.94-2.06-.94 2.06-2.06.94z\"/><path d=\"M17.41 7.96l-1.37-1.37c-.4-.4-.92-.59-1.43-.59-.52 0-1.04.2-1.43.59L10.3 9.45l-7.72 7.72c-.78.78-.78 2.05 0 2.83L4 21.41c.39.39.9.59 1.41.59.51 0 1.02-.2 1.41-.59l7.78-7.78 2.81-2.81c.8-.78.8-2.07 0-2.86zM5.41 20L4 18.59l7.72-7.72 1.47 1.35L5.41 20z\"/>\n",
              "  </svg>\n",
              "      </button>\n",
              "      \n",
              "  <style>\n",
              "    .colab-df-container {\n",
              "      display:flex;\n",
              "      flex-wrap:wrap;\n",
              "      gap: 12px;\n",
              "    }\n",
              "\n",
              "    .colab-df-convert {\n",
              "      background-color: #E8F0FE;\n",
              "      border: none;\n",
              "      border-radius: 50%;\n",
              "      cursor: pointer;\n",
              "      display: none;\n",
              "      fill: #1967D2;\n",
              "      height: 32px;\n",
              "      padding: 0 0 0 0;\n",
              "      width: 32px;\n",
              "    }\n",
              "\n",
              "    .colab-df-convert:hover {\n",
              "      background-color: #E2EBFA;\n",
              "      box-shadow: 0px 1px 2px rgba(60, 64, 67, 0.3), 0px 1px 3px 1px rgba(60, 64, 67, 0.15);\n",
              "      fill: #174EA6;\n",
              "    }\n",
              "\n",
              "    [theme=dark] .colab-df-convert {\n",
              "      background-color: #3B4455;\n",
              "      fill: #D2E3FC;\n",
              "    }\n",
              "\n",
              "    [theme=dark] .colab-df-convert:hover {\n",
              "      background-color: #434B5C;\n",
              "      box-shadow: 0px 1px 3px 1px rgba(0, 0, 0, 0.15);\n",
              "      filter: drop-shadow(0px 1px 2px rgba(0, 0, 0, 0.3));\n",
              "      fill: #FFFFFF;\n",
              "    }\n",
              "  </style>\n",
              "\n",
              "      <script>\n",
              "        const buttonEl =\n",
              "          document.querySelector('#df-e98d3961-e63b-4ab4-85aa-072cdb60d137 button.colab-df-convert');\n",
              "        buttonEl.style.display =\n",
              "          google.colab.kernel.accessAllowed ? 'block' : 'none';\n",
              "\n",
              "        async function convertToInteractive(key) {\n",
              "          const element = document.querySelector('#df-e98d3961-e63b-4ab4-85aa-072cdb60d137');\n",
              "          const dataTable =\n",
              "            await google.colab.kernel.invokeFunction('convertToInteractive',\n",
              "                                                     [key], {});\n",
              "          if (!dataTable) return;\n",
              "\n",
              "          const docLinkHtml = 'Like what you see? Visit the ' +\n",
              "            '<a target=\"_blank\" href=https://colab.research.google.com/notebooks/data_table.ipynb>data table notebook</a>'\n",
              "            + ' to learn more about interactive tables.';\n",
              "          element.innerHTML = '';\n",
              "          dataTable['output_type'] = 'display_data';\n",
              "          await google.colab.output.renderOutput(dataTable, element);\n",
              "          const docLink = document.createElement('div');\n",
              "          docLink.innerHTML = docLinkHtml;\n",
              "          element.appendChild(docLink);\n",
              "        }\n",
              "      </script>\n",
              "    </div>\n",
              "  </div>\n",
              "  "
            ],
            "text/plain": [
              "             0.435        0.335  ...       0.0965            7\n",
              "count  3319.000000  3319.000000  ...  3319.000000  3319.000000\n",
              "mean      0.522719     0.406597  ...     0.237963     9.897861\n",
              "std       0.121172     0.100127  ...     0.140261     3.205743\n",
              "min       0.075000     0.055000  ...     0.001500     1.000000\n",
              "25%       0.450000     0.345000  ...     0.127500     8.000000\n",
              "50%       0.540000     0.425000  ...     0.230000     9.000000\n",
              "75%       0.615000     0.480000  ...     0.325000    11.000000\n",
              "max       0.815000     0.650000  ...     1.005000    27.000000\n",
              "\n",
              "[8 rows x 8 columns]"
            ]
          },
          "metadata": {},
          "execution_count": 13
        }
      ]
    },
    {
      "cell_type": "code",
      "source": [
        "from google.colab import files\n",
        "uploaded = files.upload()\n",
        "\n",
        "# Read data\n",
        "df2 = pd.read_csv('abalone_train.csv')\n",
        "df2\n"
      ],
      "metadata": {
        "colab": {
          "resources": {
            "http://localhost:8080/nbextensions/google.colab/files.js": {
              "data": "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",
              "ok": true,
              "headers": [
                [
                  "content-type",
                  "application/javascript"
                ]
              ],
              "status": 200,
              "status_text": ""
            }
          },
          "base_uri": "https://localhost:8080/",
          "height": 482
        },
        "id": "zF31pk7Y0Xpp",
        "outputId": "5e5e56a6-2289-4655-c36b-5c9eaedbd60b"
      },
      "execution_count": 14,
      "outputs": [
        {
          "output_type": "display_data",
          "data": {
            "text/html": [
              "\n",
              "     <input type=\"file\" id=\"files-d267f53e-8cf2-40e0-b3e7-7087639f3929\" name=\"files[]\" multiple disabled\n",
              "        style=\"border:none\" />\n",
              "     <output id=\"result-d267f53e-8cf2-40e0-b3e7-7087639f3929\">\n",
              "      Upload widget is only available when the cell has been executed in the\n",
              "      current browser session. Please rerun this cell to enable.\n",
              "      </output>\n",
              "      <script src=\"/nbextensions/google.colab/files.js\"></script> "
            ],
            "text/plain": [
              "<IPython.core.display.HTML object>"
            ]
          },
          "metadata": {}
        },
        {
          "output_type": "stream",
          "name": "stdout",
          "text": [
            "Saving abalone_train.csv to abalone_train.csv\n"
          ]
        },
        {
          "output_type": "execute_result",
          "data": {
            "text/html": [
              "\n",
              "  <div id=\"df-1646b793-bf32-49a2-ba04-23cebda5adcd\">\n",
              "    <div class=\"colab-df-container\">\n",
              "      <div>\n",
              "<style scoped>\n",
              "    .dataframe tbody tr th:only-of-type {\n",
              "        vertical-align: middle;\n",
              "    }\n",
              "\n",
              "    .dataframe tbody tr th {\n",
              "        vertical-align: top;\n",
              "    }\n",
              "\n",
              "    .dataframe thead th {\n",
              "        text-align: right;\n",
              "    }\n",
              "</style>\n",
              "<table border=\"1\" class=\"dataframe\">\n",
              "  <thead>\n",
              "    <tr style=\"text-align: right;\">\n",
              "      <th></th>\n",
              "      <th>0.435</th>\n",
              "      <th>0.335</th>\n",
              "      <th>0.11</th>\n",
              "      <th>0.334</th>\n",
              "      <th>0.1355</th>\n",
              "      <th>0.0775</th>\n",
              "      <th>0.0965</th>\n",
              "      <th>7</th>\n",
              "    </tr>\n",
              "  </thead>\n",
              "  <tbody>\n",
              "    <tr>\n",
              "      <th>0</th>\n",
              "      <td>0.585</td>\n",
              "      <td>0.450</td>\n",
              "      <td>0.125</td>\n",
              "      <td>0.8740</td>\n",
              "      <td>0.3545</td>\n",
              "      <td>0.2075</td>\n",
              "      <td>0.2250</td>\n",
              "      <td>6</td>\n",
              "    </tr>\n",
              "    <tr>\n",
              "      <th>1</th>\n",
              "      <td>0.655</td>\n",
              "      <td>0.510</td>\n",
              "      <td>0.160</td>\n",
              "      <td>1.0920</td>\n",
              "      <td>0.3960</td>\n",
              "      <td>0.2825</td>\n",
              "      <td>0.3700</td>\n",
              "      <td>14</td>\n",
              "    </tr>\n",
              "    <tr>\n",
              "      <th>2</th>\n",
              "      <td>0.545</td>\n",
              "      <td>0.425</td>\n",
              "      <td>0.125</td>\n",
              "      <td>0.7680</td>\n",
              "      <td>0.2940</td>\n",
              "      <td>0.1495</td>\n",
              "      <td>0.2600</td>\n",
              "      <td>16</td>\n",
              "    </tr>\n",
              "    <tr>\n",
              "      <th>3</th>\n",
              "      <td>0.545</td>\n",
              "      <td>0.420</td>\n",
              "      <td>0.130</td>\n",
              "      <td>0.8790</td>\n",
              "      <td>0.3740</td>\n",
              "      <td>0.1695</td>\n",
              "      <td>0.2300</td>\n",
              "      <td>13</td>\n",
              "    </tr>\n",
              "    <tr>\n",
              "      <th>4</th>\n",
              "      <td>0.570</td>\n",
              "      <td>0.450</td>\n",
              "      <td>0.145</td>\n",
              "      <td>0.7510</td>\n",
              "      <td>0.2825</td>\n",
              "      <td>0.2195</td>\n",
              "      <td>0.2215</td>\n",
              "      <td>10</td>\n",
              "    </tr>\n",
              "    <tr>\n",
              "      <th>...</th>\n",
              "      <td>...</td>\n",
              "      <td>...</td>\n",
              "      <td>...</td>\n",
              "      <td>...</td>\n",
              "      <td>...</td>\n",
              "      <td>...</td>\n",
              "      <td>...</td>\n",
              "      <td>...</td>\n",
              "    </tr>\n",
              "    <tr>\n",
              "      <th>3314</th>\n",
              "      <td>0.605</td>\n",
              "      <td>0.475</td>\n",
              "      <td>0.180</td>\n",
              "      <td>0.9365</td>\n",
              "      <td>0.3940</td>\n",
              "      <td>0.2190</td>\n",
              "      <td>0.2950</td>\n",
              "      <td>15</td>\n",
              "    </tr>\n",
              "    <tr>\n",
              "      <th>3315</th>\n",
              "      <td>0.700</td>\n",
              "      <td>0.525</td>\n",
              "      <td>0.190</td>\n",
              "      <td>1.6015</td>\n",
              "      <td>0.7070</td>\n",
              "      <td>0.3650</td>\n",
              "      <td>0.4300</td>\n",
              "      <td>10</td>\n",
              "    </tr>\n",
              "    <tr>\n",
              "      <th>3316</th>\n",
              "      <td>0.530</td>\n",
              "      <td>0.420</td>\n",
              "      <td>0.130</td>\n",
              "      <td>0.8365</td>\n",
              "      <td>0.3745</td>\n",
              "      <td>0.1670</td>\n",
              "      <td>0.2490</td>\n",
              "      <td>11</td>\n",
              "    </tr>\n",
              "    <tr>\n",
              "      <th>3317</th>\n",
              "      <td>0.395</td>\n",
              "      <td>0.315</td>\n",
              "      <td>0.105</td>\n",
              "      <td>0.3515</td>\n",
              "      <td>0.1185</td>\n",
              "      <td>0.0910</td>\n",
              "      <td>0.1195</td>\n",
              "      <td>16</td>\n",
              "    </tr>\n",
              "    <tr>\n",
              "      <th>3318</th>\n",
              "      <td>0.450</td>\n",
              "      <td>0.355</td>\n",
              "      <td>0.120</td>\n",
              "      <td>0.4120</td>\n",
              "      <td>0.1145</td>\n",
              "      <td>0.0665</td>\n",
              "      <td>0.1600</td>\n",
              "      <td>19</td>\n",
              "    </tr>\n",
              "  </tbody>\n",
              "</table>\n",
              "<p>3319 rows × 8 columns</p>\n",
              "</div>\n",
              "      <button class=\"colab-df-convert\" onclick=\"convertToInteractive('df-1646b793-bf32-49a2-ba04-23cebda5adcd')\"\n",
              "              title=\"Convert this dataframe to an interactive table.\"\n",
              "              style=\"display:none;\">\n",
              "        \n",
              "  <svg xmlns=\"http://www.w3.org/2000/svg\" height=\"24px\"viewBox=\"0 0 24 24\"\n",
              "       width=\"24px\">\n",
              "    <path d=\"M0 0h24v24H0V0z\" fill=\"none\"/>\n",
              "    <path d=\"M18.56 5.44l.94 2.06.94-2.06 2.06-.94-2.06-.94-.94-2.06-.94 2.06-2.06.94zm-11 1L8.5 8.5l.94-2.06 2.06-.94-2.06-.94L8.5 2.5l-.94 2.06-2.06.94zm10 10l.94 2.06.94-2.06 2.06-.94-2.06-.94-.94-2.06-.94 2.06-2.06.94z\"/><path d=\"M17.41 7.96l-1.37-1.37c-.4-.4-.92-.59-1.43-.59-.52 0-1.04.2-1.43.59L10.3 9.45l-7.72 7.72c-.78.78-.78 2.05 0 2.83L4 21.41c.39.39.9.59 1.41.59.51 0 1.02-.2 1.41-.59l7.78-7.78 2.81-2.81c.8-.78.8-2.07 0-2.86zM5.41 20L4 18.59l7.72-7.72 1.47 1.35L5.41 20z\"/>\n",
              "  </svg>\n",
              "      </button>\n",
              "      \n",
              "  <style>\n",
              "    .colab-df-container {\n",
              "      display:flex;\n",
              "      flex-wrap:wrap;\n",
              "      gap: 12px;\n",
              "    }\n",
              "\n",
              "    .colab-df-convert {\n",
              "      background-color: #E8F0FE;\n",
              "      border: none;\n",
              "      border-radius: 50%;\n",
              "      cursor: pointer;\n",
              "      display: none;\n",
              "      fill: #1967D2;\n",
              "      height: 32px;\n",
              "      padding: 0 0 0 0;\n",
              "      width: 32px;\n",
              "    }\n",
              "\n",
              "    .colab-df-convert:hover {\n",
              "      background-color: #E2EBFA;\n",
              "      box-shadow: 0px 1px 2px rgba(60, 64, 67, 0.3), 0px 1px 3px 1px rgba(60, 64, 67, 0.15);\n",
              "      fill: #174EA6;\n",
              "    }\n",
              "\n",
              "    [theme=dark] .colab-df-convert {\n",
              "      background-color: #3B4455;\n",
              "      fill: #D2E3FC;\n",
              "    }\n",
              "\n",
              "    [theme=dark] .colab-df-convert:hover {\n",
              "      background-color: #434B5C;\n",
              "      box-shadow: 0px 1px 3px 1px rgba(0, 0, 0, 0.15);\n",
              "      filter: drop-shadow(0px 1px 2px rgba(0, 0, 0, 0.3));\n",
              "      fill: #FFFFFF;\n",
              "    }\n",
              "  </style>\n",
              "\n",
              "      <script>\n",
              "        const buttonEl =\n",
              "          document.querySelector('#df-1646b793-bf32-49a2-ba04-23cebda5adcd button.colab-df-convert');\n",
              "        buttonEl.style.display =\n",
              "          google.colab.kernel.accessAllowed ? 'block' : 'none';\n",
              "\n",
              "        async function convertToInteractive(key) {\n",
              "          const element = document.querySelector('#df-1646b793-bf32-49a2-ba04-23cebda5adcd');\n",
              "          const dataTable =\n",
              "            await google.colab.kernel.invokeFunction('convertToInteractive',\n",
              "                                                     [key], {});\n",
              "          if (!dataTable) return;\n",
              "\n",
              "          const docLinkHtml = 'Like what you see? Visit the ' +\n",
              "            '<a target=\"_blank\" href=https://colab.research.google.com/notebooks/data_table.ipynb>data table notebook</a>'\n",
              "            + ' to learn more about interactive tables.';\n",
              "          element.innerHTML = '';\n",
              "          dataTable['output_type'] = 'display_data';\n",
              "          await google.colab.output.renderOutput(dataTable, element);\n",
              "          const docLink = document.createElement('div');\n",
              "          docLink.innerHTML = docLinkHtml;\n",
              "          element.appendChild(docLink);\n",
              "        }\n",
              "      </script>\n",
              "    </div>\n",
              "  </div>\n",
              "  "
            ],
            "text/plain": [
              "      0.435  0.335   0.11   0.334  0.1355  0.0775  0.0965   7\n",
              "0     0.585  0.450  0.125  0.8740  0.3545  0.2075  0.2250   6\n",
              "1     0.655  0.510  0.160  1.0920  0.3960  0.2825  0.3700  14\n",
              "2     0.545  0.425  0.125  0.7680  0.2940  0.1495  0.2600  16\n",
              "3     0.545  0.420  0.130  0.8790  0.3740  0.1695  0.2300  13\n",
              "4     0.570  0.450  0.145  0.7510  0.2825  0.2195  0.2215  10\n",
              "...     ...    ...    ...     ...     ...     ...     ...  ..\n",
              "3314  0.605  0.475  0.180  0.9365  0.3940  0.2190  0.2950  15\n",
              "3315  0.700  0.525  0.190  1.6015  0.7070  0.3650  0.4300  10\n",
              "3316  0.530  0.420  0.130  0.8365  0.3745  0.1670  0.2490  11\n",
              "3317  0.395  0.315  0.105  0.3515  0.1185  0.0910  0.1195  16\n",
              "3318  0.450  0.355  0.120  0.4120  0.1145  0.0665  0.1600  19\n",
              "\n",
              "[3319 rows x 8 columns]"
            ]
          },
          "metadata": {},
          "execution_count": 14
        }
      ]
    },
    {
      "cell_type": "code",
      "source": [
        "df2[\"0.435\"]"
      ],
      "metadata": {
        "colab": {
          "base_uri": "https://localhost:8080/"
        },
        "id": "N3xwE5kU1nxK",
        "outputId": "77f50d19-28ca-4c7e-919f-3572a49ca16b"
      },
      "execution_count": null,
      "outputs": [
        {
          "output_type": "execute_result",
          "data": {
            "text/plain": [
              "0       0.585\n",
              "1       0.655\n",
              "2       0.545\n",
              "3       0.545\n",
              "4       0.570\n",
              "        ...  \n",
              "3314    0.605\n",
              "3315    0.700\n",
              "3316    0.530\n",
              "3317    0.395\n",
              "3318    0.450\n",
              "Name: 0.435, Length: 3319, dtype: float64"
            ]
          },
          "metadata": {},
          "execution_count": 61
        }
      ]
    },
    {
      "cell_type": "code",
      "source": [
        "N = 4 #@param{type:'slider', min:2, max:8, step:1}"
      ],
      "metadata": {
        "id": "NmIlu9oX2U06"
      },
      "execution_count": 10,
      "outputs": []
    },
    {
      "cell_type": "code",
      "source": [
        "kmeans = KMeans(n_clusters=N) # Create KMeans object incoporating the parameters\n",
        "kmeans.fit(df) # Train KMeans model\n",
        "y_kmeans = kmeans.predict(df) # make prediction(y) on dataset"
      ],
      "metadata": {
        "id": "BR3xuWgC3NnA"
      },
      "execution_count": 15,
      "outputs": []
    },
    {
      "cell_type": "code",
      "source": [
        ""
      ],
      "metadata": {
        "id": "dbXKn7dnJplZ"
      },
      "execution_count": null,
      "outputs": []
    },
    {
      "cell_type": "code",
      "source": [
        "x = df2['0.435'].tolist() # 数据一\n",
        "y = df2['0.0965'].tolist() \n",
        "print(x)\n",
        "print(y)"
      ],
      "metadata": {
        "colab": {
          "base_uri": "https://localhost:8080/"
        },
        "id": "NfikNqHP36ja",
        "outputId": "b57e0b09-5cd6-4018-fa95-92fdc6c54f23"
      },
      "execution_count": 21,
      "outputs": [
        {
          "output_type": "stream",
          "name": "stdout",
          "text": [
            "[0.585, 0.655, 0.545, 0.545, 0.57, 0.47, 0.61, 0.52, 0.485, 0.625, 0.615, 0.455, 0.475, 0.385, 0.67, 0.615, 0.52, 0.635, 0.72, 0.57, 0.725, 0.435, 0.685, 0.575, 0.575, 0.625, 0.355, 0.565, 0.47, 0.41, 0.55, 0.575, 0.55, 0.355, 0.58, 0.525, 0.63, 0.465, 0.63, 0.325, 0.645, 0.62, 0.495, 0.645, 0.575, 0.59, 0.465, 0.48, 0.62, 0.53, 0.65, 0.38, 0.665, 0.6, 0.465, 0.375, 0.585, 0.51, 0.425, 0.47, 0.445, 0.37, 0.5, 0.69, 0.615, 0.57, 0.65, 0.32, 0.52, 0.735, 0.375, 0.35, 0.665, 0.53, 0.62, 0.455, 0.565, 0.625, 0.58, 0.52, 0.61, 0.525, 0.565, 0.65, 0.38, 0.635, 0.775, 0.565, 0.39, 0.555, 0.4, 0.695, 0.71, 0.4, 0.29, 0.64, 0.75, 0.67, 0.585, 0.56, 0.395, 0.5, 0.74, 0.57, 0.47, 0.37, 0.64, 0.585, 0.675, 0.65, 0.56, 0.62, 0.6, 0.4, 0.505, 0.59, 0.545, 0.515, 0.705, 0.38, 0.44, 0.37, 0.475, 0.37, 0.36, 0.645, 0.615, 0.385, 0.655, 0.48, 0.56, 0.505, 0.625, 0.64, 0.595, 0.5, 0.455, 0.58, 0.495, 0.535, 0.625, 0.525, 0.295, 0.36, 0.19, 0.485, 0.63, 0.625, 0.18, 0.545, 0.77, 0.505, 0.565, 0.4, 0.275, 0.425, 0.365, 0.505, 0.56, 0.415, 0.33, 0.56, 0.585, 0.505, 0.58, 0.58, 0.56, 0.58, 0.675, 0.52, 0.595, 0.63, 0.59, 0.5, 0.435, 0.505, 0.5, 0.32, 0.485, 0.585, 0.4, 0.385, 0.42, 0.67, 0.495, 0.265, 0.275, 0.455, 0.625, 0.57, 0.39, 0.74, 0.35, 0.375, 0.34, 0.59, 0.525, 0.74, 0.695, 0.355, 0.57, 0.755, 0.525, 0.44, 0.29, 0.28, 0.53, 0.595, 0.53, 0.535, 0.475, 0.61, 0.485, 0.74, 0.325, 0.63, 0.63, 0.37, 0.33, 0.515, 0.505, 0.35, 0.24, 0.29, 0.465, 0.26, 0.51, 0.555, 0.51, 0.525, 0.67, 0.51, 0.575, 0.53, 0.67, 0.64, 0.465, 0.595, 0.49, 0.375, 0.6, 0.355, 0.68, 0.285, 0.71, 0.48, 0.495, 0.55, 0.265, 0.54, 0.655, 0.285, 0.605, 0.58, 0.315, 0.285, 0.645, 0.495, 0.65, 0.205, 0.45, 0.285, 0.525, 0.435, 0.59, 0.48, 0.36, 0.35, 0.66, 0.655, 0.57, 0.63, 0.59, 0.56, 0.47, 0.565, 0.625, 0.36, 0.275, 0.64, 0.52, 0.45, 0.63, 0.61, 0.53, 0.62, 0.465, 0.51, 0.475, 0.59, 0.57, 0.58, 0.48, 0.5, 0.57, 0.65, 0.35, 0.41, 0.25, 0.515, 0.65, 0.59, 0.685, 0.55, 0.49, 0.36, 0.56, 0.605, 0.25, 0.57, 0.31, 0.645, 0.295, 0.49, 0.6, 0.435, 0.6, 0.68, 0.62, 0.545, 0.475, 0.61, 0.585, 0.65, 0.485, 0.545, 0.645, 0.58, 0.65, 0.605, 0.62, 0.395, 0.665, 0.475, 0.255, 0.31, 0.5, 0.525, 0.62, 0.58, 0.58, 0.35, 0.38, 0.445, 0.515, 0.415, 0.535, 0.485, 0.55, 0.7, 0.645, 0.56, 0.385, 0.58, 0.595, 0.585, 0.51, 0.515, 0.565, 0.555, 0.5, 0.53, 0.555, 0.565, 0.43, 0.515, 0.55, 0.49, 0.31, 0.2, 0.465, 0.625, 0.575, 0.415, 0.565, 0.47, 0.485, 0.45, 0.375, 0.265, 0.255, 0.335, 0.5, 0.63, 0.68, 0.61, 0.47, 0.45, 0.585, 0.44, 0.575, 0.57, 0.505, 0.57, 0.605, 0.645, 0.355, 0.275, 0.59, 0.495, 0.375, 0.475, 0.54, 0.61, 0.575, 0.63, 0.4, 0.435, 0.51, 0.525, 0.21, 0.435, 0.49, 0.46, 0.485, 0.57, 0.555, 0.48, 0.58, 0.3, 0.49, 0.535, 0.585, 0.63, 0.375, 0.56, 0.33, 0.56, 0.32, 0.475, 0.45, 0.405, 0.235, 0.52, 0.545, 0.415, 0.585, 0.68, 0.655, 0.55, 0.725, 0.605, 0.55, 0.58, 0.6, 0.62, 0.65, 0.295, 0.64, 0.69, 0.615, 0.59, 0.485, 0.625, 0.58, 0.43, 0.54, 0.66, 0.47, 0.4, 0.355, 0.625, 0.48, 0.42, 0.65, 0.565, 0.55, 0.52, 0.36, 0.6, 0.565, 0.615, 0.635, 0.745, 0.605, 0.615, 0.51, 0.635, 0.65, 0.675, 0.505, 0.64, 0.49, 0.63, 0.545, 0.425, 0.385, 0.205, 0.62, 0.5, 0.64, 0.46, 0.52, 0.56, 0.59, 0.625, 0.515, 0.57, 0.28, 0.565, 0.605, 0.585, 0.615, 0.43, 0.31, 0.545, 0.31, 0.595, 0.69, 0.54, 0.675, 0.67, 0.495, 0.6, 0.575, 0.54, 0.56, 0.575, 0.33, 0.485, 0.58, 0.42, 0.615, 0.695, 0.315, 0.6, 0.57, 0.625, 0.46, 0.525, 0.55, 0.575, 0.13, 0.55, 0.2, 0.63, 0.355, 0.53, 0.405, 0.67, 0.48, 0.65, 0.46, 0.43, 0.67, 0.515, 0.415, 0.58, 0.175, 0.625, 0.68, 0.44, 0.55, 0.585, 0.415, 0.615, 0.61, 0.645, 0.55, 0.645, 0.72, 0.535, 0.66, 0.575, 0.715, 0.61, 0.55, 0.675, 0.475, 0.49, 0.66, 0.14, 0.5, 0.645, 0.405, 0.55, 0.36, 0.63, 0.45, 0.56, 0.64, 0.64, 0.67, 0.205, 0.545, 0.415, 0.515, 0.66, 0.685, 0.48, 0.3, 0.53, 0.43, 0.445, 0.445, 0.775, 0.39, 0.58, 0.34, 0.49, 0.535, 0.445, 0.645, 0.575, 0.745, 0.605, 0.425, 0.415, 0.455, 0.58, 0.51, 0.635, 0.74, 0.72, 0.655, 0.7, 0.53, 0.51, 0.605, 0.375, 0.595, 0.64, 0.435, 0.57, 0.535, 0.415, 0.565, 0.55, 0.655, 0.415, 0.51, 0.505, 0.385, 0.52, 0.45, 0.63, 0.565, 0.345, 0.505, 0.565, 0.41, 0.49, 0.45, 0.515, 0.54, 0.345, 0.705, 0.55, 0.6, 0.58, 0.625, 0.61, 0.49, 0.46, 0.61, 0.6, 0.58, 0.48, 0.55, 0.545, 0.5, 0.6, 0.67, 0.575, 0.675, 0.46, 0.505, 0.31, 0.56, 0.595, 0.235, 0.615, 0.45, 0.335, 0.41, 0.45, 0.7, 0.675, 0.405, 0.54, 0.695, 0.63, 0.57, 0.575, 0.61, 0.76, 0.57, 0.465, 0.74, 0.65, 0.56, 0.68, 0.275, 0.645, 0.535, 0.72, 0.655, 0.51, 0.41, 0.525, 0.495, 0.38, 0.545, 0.505, 0.65, 0.645, 0.58, 0.33, 0.665, 0.19, 0.355, 0.375, 0.36, 0.39, 0.5, 0.66, 0.45, 0.63, 0.48, 0.635, 0.61, 0.58, 0.655, 0.465, 0.4, 0.255, 0.58, 0.415, 0.655, 0.235, 0.23, 0.43, 0.635, 0.585, 0.62, 0.63, 0.44, 0.455, 0.445, 0.335, 0.535, 0.455, 0.495, 0.56, 0.58, 0.47, 0.695, 0.465, 0.49, 0.34, 0.385, 0.45, 0.3, 0.435, 0.65, 0.695, 0.645, 0.325, 0.635, 0.3, 0.545, 0.62, 0.73, 0.67, 0.365, 0.615, 0.415, 0.665, 0.68, 0.37, 0.585, 0.45, 0.645, 0.605, 0.69, 0.5, 0.405, 0.645, 0.61, 0.61, 0.545, 0.625, 0.7, 0.395, 0.38, 0.28, 0.595, 0.385, 0.5, 0.385, 0.64, 0.67, 0.485, 0.53, 0.5, 0.59, 0.425, 0.66, 0.505, 0.615, 0.615, 0.43, 0.605, 0.37, 0.67, 0.56, 0.455, 0.43, 0.66, 0.44, 0.42, 0.52, 0.48, 0.55, 0.49, 0.54, 0.335, 0.585, 0.55, 0.34, 0.355, 0.545, 0.39, 0.595, 0.615, 0.57, 0.605, 0.55, 0.365, 0.67, 0.505, 0.48, 0.455, 0.635, 0.215, 0.6, 0.375, 0.515, 0.615, 0.35, 0.62, 0.465, 0.425, 0.17, 0.395, 0.5, 0.645, 0.77, 0.295, 0.495, 0.595, 0.565, 0.65, 0.575, 0.59, 0.385, 0.395, 0.21, 0.645, 0.53, 0.695, 0.625, 0.595, 0.435, 0.525, 0.47, 0.64, 0.53, 0.535, 0.525, 0.7, 0.605, 0.65, 0.54, 0.645, 0.69, 0.605, 0.44, 0.43, 0.655, 0.42, 0.43, 0.425, 0.595, 0.52, 0.515, 0.35, 0.65, 0.595, 0.655, 0.395, 0.53, 0.625, 0.425, 0.54, 0.465, 0.325, 0.535, 0.64, 0.625, 0.5, 0.55, 0.545, 0.435, 0.725, 0.55, 0.495, 0.525, 0.59, 0.45, 0.27, 0.525, 0.4, 0.63, 0.64, 0.615, 0.72, 0.485, 0.55, 0.6, 0.61, 0.49, 0.575, 0.72, 0.47, 0.53, 0.34, 0.495, 0.255, 0.46, 0.7, 0.595, 0.5, 0.535, 0.41, 0.705, 0.505, 0.44, 0.44, 0.375, 0.475, 0.545, 0.56, 0.38, 0.595, 0.24, 0.6, 0.655, 0.51, 0.535, 0.665, 0.235, 0.63, 0.695, 0.655, 0.575, 0.52, 0.57, 0.44, 0.485, 0.515, 0.625, 0.41, 0.62, 0.495, 0.62, 0.345, 0.43, 0.23, 0.315, 0.6, 0.58, 0.53, 0.635, 0.535, 0.59, 0.36, 0.66, 0.51, 0.615, 0.67, 0.57, 0.705, 0.555, 0.52, 0.405, 0.335, 0.4, 0.595, 0.49, 0.56, 0.53, 0.65, 0.36, 0.35, 0.495, 0.505, 0.525, 0.255, 0.335, 0.53, 0.475, 0.49, 0.615, 0.605, 0.635, 0.665, 0.465, 0.635, 0.59, 0.335, 0.52, 0.455, 0.365, 0.49, 0.59, 0.47, 0.505, 0.59, 0.59, 0.6, 0.565, 0.555, 0.425, 0.55, 0.39, 0.25, 0.55, 0.46, 0.445, 0.475, 0.565, 0.525, 0.5, 0.48, 0.575, 0.465, 0.6, 0.715, 0.645, 0.255, 0.505, 0.285, 0.55, 0.59, 0.64, 0.62, 0.615, 0.495, 0.525, 0.53, 0.495, 0.505, 0.74, 0.72, 0.495, 0.635, 0.175, 0.585, 0.625, 0.585, 0.53, 0.335, 0.735, 0.39, 0.505, 0.605, 0.29, 0.615, 0.55, 0.415, 0.57, 0.475, 0.52, 0.5, 0.6, 0.7, 0.415, 0.37, 0.37, 0.605, 0.435, 0.575, 0.645, 0.445, 0.62, 0.335, 0.6, 0.425, 0.5, 0.435, 0.445, 0.36, 0.545, 0.38, 0.615, 0.51, 0.465, 0.46, 0.48, 0.28, 0.245, 0.425, 0.57, 0.625, 0.37, 0.385, 0.62, 0.7, 0.59, 0.525, 0.665, 0.64, 0.645, 0.545, 0.485, 0.395, 0.505, 0.175, 0.675, 0.655, 0.405, 0.58, 0.58, 0.675, 0.57, 0.44, 0.35, 0.51, 0.395, 0.43, 0.615, 0.67, 0.63, 0.65, 0.47, 0.465, 0.705, 0.55, 0.61, 0.575, 0.78, 0.73, 0.54, 0.44, 0.43, 0.525, 0.57, 0.585, 0.73, 0.225, 0.575, 0.46, 0.595, 0.28, 0.66, 0.75, 0.565, 0.725, 0.4, 0.63, 0.6, 0.62, 0.44, 0.63, 0.455, 0.475, 0.66, 0.385, 0.58, 0.49, 0.56, 0.595, 0.49, 0.33, 0.425, 0.6, 0.59, 0.675, 0.605, 0.47, 0.555, 0.445, 0.515, 0.47, 0.56, 0.675, 0.56, 0.47, 0.535, 0.55, 0.45, 0.59, 0.68, 0.595, 0.535, 0.525, 0.61, 0.575, 0.685, 0.48, 0.58, 0.67, 0.62, 0.31, 0.5, 0.645, 0.565, 0.51, 0.5, 0.39, 0.6, 0.645, 0.55, 0.65, 0.71, 0.61, 0.65, 0.725, 0.595, 0.465, 0.61, 0.56, 0.635, 0.65, 0.375, 0.37, 0.43, 0.575, 0.535, 0.615, 0.585, 0.625, 0.6, 0.35, 0.645, 0.535, 0.48, 0.625, 0.18, 0.435, 0.35, 0.575, 0.52, 0.36, 0.69, 0.625, 0.385, 0.66, 0.425, 0.575, 0.235, 0.635, 0.45, 0.55, 0.49, 0.72, 0.475, 0.48, 0.695, 0.58, 0.595, 0.605, 0.68, 0.575, 0.31, 0.48, 0.655, 0.505, 0.72, 0.555, 0.6, 0.53, 0.31, 0.58, 0.565, 0.355, 0.7, 0.525, 0.48, 0.545, 0.41, 0.56, 0.29, 0.35, 0.39, 0.325, 0.38, 0.47, 0.515, 0.375, 0.475, 0.515, 0.5, 0.495, 0.46, 0.605, 0.625, 0.585, 0.425, 0.46, 0.575, 0.56, 0.57, 0.56, 0.37, 0.2, 0.225, 0.525, 0.21, 0.5, 0.53, 0.415, 0.565, 0.52, 0.515, 0.5, 0.55, 0.5, 0.52, 0.385, 0.635, 0.71, 0.675, 0.455, 0.455, 0.46, 0.47, 0.615, 0.61, 0.31, 0.565, 0.505, 0.495, 0.53, 0.21, 0.48, 0.17, 0.45, 0.52, 0.52, 0.455, 0.33, 0.625, 0.5, 0.78, 0.57, 0.485, 0.61, 0.27, 0.63, 0.435, 0.525, 0.63, 0.495, 0.57, 0.565, 0.675, 0.645, 0.55, 0.545, 0.365, 0.195, 0.415, 0.55, 0.27, 0.29, 0.575, 0.735, 0.66, 0.55, 0.515, 0.52, 0.64, 0.67, 0.555, 0.445, 0.455, 0.625, 0.565, 0.23, 0.63, 0.485, 0.575, 0.51, 0.575, 0.715, 0.415, 0.36, 0.59, 0.565, 0.325, 0.585, 0.585, 0.6, 0.165, 0.66, 0.54, 0.705, 0.625, 0.355, 0.54, 0.515, 0.635, 0.61, 0.595, 0.58, 0.62, 0.585, 0.45, 0.505, 0.625, 0.615, 0.205, 0.44, 0.72, 0.435, 0.53, 0.535, 0.59, 0.665, 0.705, 0.55, 0.65, 0.67, 0.53, 0.32, 0.32, 0.58, 0.625, 0.625, 0.585, 0.425, 0.32, 0.575, 0.65, 0.555, 0.5, 0.46, 0.62, 0.5, 0.545, 0.525, 0.7, 0.525, 0.645, 0.44, 0.465, 0.65, 0.47, 0.48, 0.515, 0.635, 0.275, 0.405, 0.46, 0.5, 0.485, 0.35, 0.295, 0.465, 0.57, 0.535, 0.395, 0.665, 0.485, 0.52, 0.63, 0.595, 0.385, 0.64, 0.62, 0.525, 0.535, 0.63, 0.35, 0.345, 0.615, 0.545, 0.63, 0.575, 0.585, 0.405, 0.595, 0.55, 0.68, 0.49, 0.77, 0.55, 0.505, 0.5, 0.36, 0.555, 0.435, 0.38, 0.705, 0.55, 0.4, 0.655, 0.555, 0.75, 0.695, 0.475, 0.595, 0.65, 0.53, 0.52, 0.64, 0.65, 0.445, 0.55, 0.645, 0.67, 0.44, 0.62, 0.495, 0.67, 0.395, 0.485, 0.525, 0.485, 0.68, 0.48, 0.395, 0.255, 0.36, 0.695, 0.545, 0.72, 0.345, 0.345, 0.47, 0.67, 0.645, 0.28, 0.43, 0.705, 0.56, 0.3, 0.315, 0.565, 0.655, 0.47, 0.39, 0.655, 0.63, 0.385, 0.655, 0.62, 0.585, 0.655, 0.65, 0.62, 0.585, 0.665, 0.57, 0.5, 0.54, 0.33, 0.715, 0.655, 0.535, 0.535, 0.335, 0.52, 0.275, 0.36, 0.565, 0.595, 0.59, 0.62, 0.64, 0.285, 0.41, 0.62, 0.46, 0.655, 0.625, 0.425, 0.59, 0.415, 0.56, 0.57, 0.54, 0.65, 0.545, 0.555, 0.61, 0.62, 0.61, 0.48, 0.6, 0.7, 0.535, 0.625, 0.755, 0.645, 0.44, 0.685, 0.56, 0.55, 0.475, 0.67, 0.58, 0.435, 0.67, 0.6, 0.68, 0.585, 0.33, 0.535, 0.42, 0.65, 0.61, 0.585, 0.4, 0.37, 0.46, 0.38, 0.51, 0.37, 0.65, 0.475, 0.53, 0.475, 0.64, 0.53, 0.42, 0.655, 0.5, 0.665, 0.47, 0.58, 0.415, 0.335, 0.695, 0.385, 0.545, 0.54, 0.51, 0.55, 0.2, 0.565, 0.46, 0.205, 0.545, 0.33, 0.5, 0.675, 0.625, 0.315, 0.675, 0.235, 0.5, 0.62, 0.525, 0.615, 0.64, 0.405, 0.61, 0.385, 0.595, 0.58, 0.5, 0.43, 0.605, 0.715, 0.625, 0.44, 0.49, 0.38, 0.69, 0.71, 0.52, 0.41, 0.71, 0.7, 0.645, 0.42, 0.45, 0.625, 0.525, 0.625, 0.65, 0.52, 0.64, 0.565, 0.69, 0.605, 0.635, 0.275, 0.645, 0.335, 0.5, 0.505, 0.395, 0.535, 0.625, 0.75, 0.57, 0.54, 0.48, 0.44, 0.575, 0.53, 0.545, 0.325, 0.485, 0.42, 0.605, 0.55, 0.48, 0.58, 0.385, 0.475, 0.725, 0.4, 0.6, 0.605, 0.63, 0.595, 0.57, 0.465, 0.625, 0.66, 0.645, 0.35, 0.44, 0.41, 0.42, 0.51, 0.475, 0.355, 0.62, 0.45, 0.61, 0.68, 0.635, 0.615, 0.47, 0.485, 0.475, 0.44, 0.64, 0.425, 0.5, 0.41, 0.43, 0.565, 0.615, 0.68, 0.445, 0.55, 0.67, 0.16, 0.38, 0.575, 0.355, 0.605, 0.44, 0.32, 0.365, 0.565, 0.545, 0.655, 0.635, 0.575, 0.54, 0.595, 0.635, 0.545, 0.44, 0.57, 0.425, 0.54, 0.645, 0.475, 0.62, 0.54, 0.47, 0.605, 0.52, 0.575, 0.215, 0.65, 0.515, 0.55, 0.605, 0.375, 0.635, 0.56, 0.28, 0.685, 0.545, 0.64, 0.545, 0.315, 0.66, 0.255, 0.64, 0.385, 0.565, 0.44, 0.57, 0.725, 0.425, 0.42, 0.54, 0.565, 0.61, 0.5, 0.405, 0.595, 0.435, 0.705, 0.66, 0.465, 0.525, 0.56, 0.55, 0.535, 0.525, 0.58, 0.495, 0.45, 0.5, 0.4, 0.615, 0.635, 0.455, 0.705, 0.66, 0.635, 0.445, 0.59, 0.645, 0.3, 0.585, 0.405, 0.72, 0.635, 0.33, 0.6, 0.375, 0.505, 0.515, 0.285, 0.165, 0.655, 0.5, 0.45, 0.255, 0.53, 0.505, 0.465, 0.56, 0.52, 0.53, 0.34, 0.475, 0.45, 0.455, 0.61, 0.4, 0.52, 0.725, 0.46, 0.49, 0.49, 0.61, 0.475, 0.47, 0.585, 0.59, 0.53, 0.45, 0.405, 0.36, 0.315, 0.655, 0.56, 0.615, 0.6, 0.625, 0.59, 0.62, 0.65, 0.53, 0.275, 0.385, 0.515, 0.52, 0.175, 0.43, 0.515, 0.695, 0.26, 0.55, 0.515, 0.375, 0.135, 0.57, 0.675, 0.58, 0.505, 0.37, 0.57, 0.5, 0.615, 0.545, 0.51, 0.64, 0.595, 0.55, 0.635, 0.58, 0.545, 0.595, 0.46, 0.565, 0.6, 0.655, 0.63, 0.66, 0.635, 0.625, 0.525, 0.365, 0.385, 0.45, 0.52, 0.215, 0.425, 0.435, 0.45, 0.375, 0.62, 0.41, 0.37, 0.57, 0.54, 0.27, 0.405, 0.445, 0.37, 0.63, 0.3, 0.6, 0.525, 0.645, 0.53, 0.635, 0.575, 0.65, 0.555, 0.63, 0.51, 0.685, 0.45, 0.57, 0.59, 0.58, 0.51, 0.575, 0.35, 0.42, 0.405, 0.565, 0.505, 0.41, 0.62, 0.37, 0.275, 0.595, 0.62, 0.59, 0.65, 0.63, 0.585, 0.36, 0.42, 0.61, 0.71, 0.39, 0.55, 0.59, 0.55, 0.63, 0.53, 0.42, 0.62, 0.4, 0.58, 0.55, 0.615, 0.645, 0.67, 0.625, 0.385, 0.295, 0.605, 0.185, 0.295, 0.285, 0.455, 0.705, 0.58, 0.235, 0.295, 0.52, 0.415, 0.63, 0.58, 0.58, 0.44, 0.535, 0.55, 0.685, 0.395, 0.43, 0.25, 0.24, 0.475, 0.575, 0.53, 0.585, 0.71, 0.42, 0.475, 0.635, 0.555, 0.625, 0.58, 0.155, 0.685, 0.725, 0.65, 0.335, 0.475, 0.28, 0.45, 0.645, 0.345, 0.53, 0.585, 0.63, 0.445, 0.58, 0.2, 0.61, 0.735, 0.49, 0.72, 0.63, 0.33, 0.595, 0.25, 0.495, 0.375, 0.68, 0.445, 0.485, 0.6, 0.42, 0.32, 0.6, 0.61, 0.52, 0.53, 0.675, 0.56, 0.16, 0.655, 0.49, 0.49, 0.485, 0.375, 0.565, 0.7, 0.75, 0.59, 0.65, 0.655, 0.62, 0.555, 0.6, 0.505, 0.29, 0.65, 0.52, 0.53, 0.495, 0.455, 0.53, 0.675, 0.625, 0.21, 0.44, 0.535, 0.55, 0.46, 0.53, 0.565, 0.46, 0.44, 0.59, 0.685, 0.435, 0.5, 0.52, 0.575, 0.375, 0.64, 0.575, 0.5, 0.435, 0.385, 0.655, 0.45, 0.765, 0.55, 0.54, 0.665, 0.575, 0.66, 0.39, 0.275, 0.625, 0.695, 0.36, 0.485, 0.54, 0.56, 0.495, 0.625, 0.56, 0.53, 0.595, 0.595, 0.62, 0.65, 0.495, 0.565, 0.535, 0.64, 0.535, 0.43, 0.355, 0.575, 0.72, 0.66, 0.405, 0.7, 0.375, 0.51, 0.59, 0.535, 0.63, 0.675, 0.35, 0.535, 0.635, 0.45, 0.62, 0.345, 0.64, 0.63, 0.55, 0.6, 0.595, 0.455, 0.535, 0.625, 0.555, 0.325, 0.57, 0.605, 0.635, 0.555, 0.525, 0.64, 0.645, 0.475, 0.6, 0.37, 0.535, 0.67, 0.615, 0.48, 0.645, 0.465, 0.49, 0.505, 0.595, 0.565, 0.555, 0.625, 0.665, 0.605, 0.47, 0.645, 0.75, 0.63, 0.465, 0.625, 0.23, 0.57, 0.505, 0.455, 0.58, 0.545, 0.2, 0.485, 0.44, 0.635, 0.63, 0.555, 0.735, 0.52, 0.565, 0.57, 0.55, 0.47, 0.68, 0.39, 0.585, 0.62, 0.435, 0.44, 0.465, 0.545, 0.45, 0.58, 0.49, 0.565, 0.6, 0.44, 0.675, 0.47, 0.63, 0.52, 0.7, 0.555, 0.195, 0.505, 0.52, 0.71, 0.24, 0.675, 0.605, 0.53, 0.6, 0.315, 0.6, 0.565, 0.645, 0.175, 0.565, 0.57, 0.66, 0.625, 0.505, 0.365, 0.16, 0.545, 0.435, 0.65, 0.4, 0.475, 0.62, 0.57, 0.7, 0.525, 0.525, 0.47, 0.42, 0.62, 0.645, 0.525, 0.635, 0.44, 0.645, 0.575, 0.61, 0.28, 0.35, 0.61, 0.455, 0.605, 0.52, 0.655, 0.64, 0.475, 0.56, 0.4, 0.65, 0.485, 0.62, 0.365, 0.655, 0.575, 0.515, 0.44, 0.57, 0.65, 0.685, 0.46, 0.455, 0.43, 0.65, 0.68, 0.275, 0.61, 0.65, 0.525, 0.455, 0.55, 0.63, 0.525, 0.47, 0.47, 0.74, 0.25, 0.64, 0.58, 0.37, 0.63, 0.45, 0.64, 0.64, 0.435, 0.65, 0.315, 0.465, 0.525, 0.47, 0.44, 0.605, 0.62, 0.55, 0.37, 0.695, 0.6, 0.48, 0.58, 0.325, 0.605, 0.46, 0.54, 0.515, 0.69, 0.58, 0.665, 0.365, 0.675, 0.61, 0.55, 0.66, 0.58, 0.445, 0.425, 0.665, 0.51, 0.375, 0.42, 0.58, 0.615, 0.575, 0.645, 0.6, 0.4, 0.595, 0.275, 0.405, 0.25, 0.515, 0.385, 0.615, 0.73, 0.455, 0.16, 0.57, 0.475, 0.555, 0.555, 0.605, 0.46, 0.615, 0.49, 0.645, 0.615, 0.55, 0.665, 0.575, 0.39, 0.59, 0.475, 0.69, 0.555, 0.515, 0.48, 0.695, 0.535, 0.535, 0.29, 0.34, 0.695, 0.4, 0.605, 0.45, 0.615, 0.56, 0.58, 0.645, 0.44, 0.515, 0.635, 0.6, 0.645, 0.505, 0.32, 0.535, 0.67, 0.645, 0.51, 0.67, 0.375, 0.5, 0.59, 0.595, 0.44, 0.47, 0.32, 0.605, 0.515, 0.375, 0.355, 0.615, 0.58, 0.625, 0.7, 0.38, 0.61, 0.44, 0.53, 0.52, 0.52, 0.515, 0.615, 0.365, 0.65, 0.72, 0.515, 0.375, 0.58, 0.345, 0.075, 0.645, 0.305, 0.47, 0.565, 0.555, 0.405, 0.615, 0.45, 0.695, 0.31, 0.63, 0.62, 0.525, 0.415, 0.41, 0.54, 0.64, 0.235, 0.475, 0.685, 0.47, 0.275, 0.625, 0.33, 0.47, 0.29, 0.5, 0.69, 0.425, 0.525, 0.385, 0.7, 0.37, 0.485, 0.66, 0.45, 0.45, 0.63, 0.515, 0.59, 0.65, 0.6, 0.625, 0.645, 0.385, 0.55, 0.54, 0.615, 0.325, 0.44, 0.585, 0.685, 0.685, 0.455, 0.585, 0.545, 0.41, 0.59, 0.7, 0.62, 0.515, 0.6, 0.455, 0.57, 0.58, 0.38, 0.455, 0.675, 0.655, 0.375, 0.61, 0.485, 0.42, 0.41, 0.45, 0.455, 0.59, 0.455, 0.64, 0.625, 0.58, 0.615, 0.52, 0.62, 0.38, 0.65, 0.625, 0.485, 0.585, 0.36, 0.68, 0.635, 0.615, 0.415, 0.5, 0.52, 0.7, 0.495, 0.385, 0.515, 0.64, 0.47, 0.62, 0.45, 0.39, 0.735, 0.685, 0.63, 0.71, 0.61, 0.57, 0.695, 0.66, 0.475, 0.615, 0.45, 0.295, 0.59, 0.485, 0.385, 0.62, 0.54, 0.57, 0.725, 0.53, 0.435, 0.375, 0.575, 0.275, 0.56, 0.585, 0.69, 0.35, 0.47, 0.555, 0.47, 0.545, 0.475, 0.605, 0.475, 0.585, 0.5, 0.425, 0.475, 0.65, 0.485, 0.6, 0.735, 0.535, 0.53, 0.36, 0.32, 0.44, 0.55, 0.66, 0.56, 0.51, 0.47, 0.37, 0.475, 0.555, 0.6, 0.36, 0.63, 0.53, 0.475, 0.55, 0.57, 0.7, 0.6, 0.575, 0.57, 0.325, 0.54, 0.645, 0.735, 0.37, 0.54, 0.495, 0.62, 0.575, 0.71, 0.5, 0.495, 0.455, 0.585, 0.5, 0.415, 0.64, 0.63, 0.435, 0.465, 0.305, 0.535, 0.56, 0.655, 0.535, 0.6, 0.68, 0.72, 0.57, 0.66, 0.61, 0.7, 0.405, 0.595, 0.595, 0.625, 0.645, 0.58, 0.185, 0.51, 0.405, 0.4, 0.28, 0.54, 0.24, 0.155, 0.635, 0.57, 0.41, 0.575, 0.46, 0.65, 0.56, 0.465, 0.465, 0.61, 0.31, 0.455, 0.405, 0.665, 0.525, 0.605, 0.58, 0.68, 0.395, 0.34, 0.475, 0.585, 0.5, 0.395, 0.51, 0.425, 0.475, 0.465, 0.575, 0.595, 0.64, 0.295, 0.15, 0.585, 0.485, 0.58, 0.53, 0.615, 0.415, 0.625, 0.645, 0.46, 0.4, 0.5, 0.42, 0.465, 0.72, 0.57, 0.62, 0.595, 0.695, 0.61, 0.595, 0.34, 0.615, 0.53, 0.48, 0.535, 0.6, 0.575, 0.66, 0.56, 0.545, 0.555, 0.625, 0.53, 0.665, 0.525, 0.475, 0.555, 0.36, 0.595, 0.61, 0.315, 0.595, 0.675, 0.5, 0.53, 0.57, 0.525, 0.68, 0.59, 0.61, 0.36, 0.28, 0.52, 0.62, 0.66, 0.435, 0.505, 0.815, 0.525, 0.165, 0.6, 0.44, 0.63, 0.54, 0.505, 0.555, 0.595, 0.58, 0.66, 0.575, 0.46, 0.47, 0.67, 0.315, 0.215, 0.455, 0.685, 0.595, 0.29, 0.245, 0.58, 0.375, 0.6, 0.55, 0.635, 0.56, 0.62, 0.63, 0.585, 0.495, 0.375, 0.66, 0.53, 0.61, 0.625, 0.525, 0.465, 0.375, 0.55, 0.625, 0.615, 0.585, 0.29, 0.255, 0.51, 0.33, 0.545, 0.66, 0.305, 0.37, 0.39, 0.52, 0.635, 0.415, 0.485, 0.475, 0.505, 0.36, 0.67, 0.6, 0.595, 0.28, 0.665, 0.53, 0.305, 0.715, 0.58, 0.265, 0.615, 0.6, 0.565, 0.695, 0.245, 0.495, 0.39, 0.645, 0.35, 0.495, 0.375, 0.495, 0.63, 0.41, 0.525, 0.305, 0.37, 0.66, 0.64, 0.63, 0.57, 0.395, 0.45, 0.575, 0.56, 0.635, 0.63, 0.36, 0.63, 0.6, 0.69, 0.635, 0.51, 0.65, 0.255, 0.355, 0.515, 0.19, 0.575, 0.27, 0.52, 0.64, 0.605, 0.485, 0.3, 0.635, 0.59, 0.525, 0.42, 0.575, 0.61, 0.315, 0.72, 0.575, 0.63, 0.475, 0.515, 0.71, 0.495, 0.475, 0.62, 0.455, 0.565, 0.605, 0.5, 0.675, 0.495, 0.52, 0.585, 0.575, 0.625, 0.18, 0.64, 0.605, 0.605, 0.52, 0.63, 0.48, 0.27, 0.6, 0.57, 0.565, 0.59, 0.475, 0.31, 0.245, 0.36, 0.69, 0.33, 0.5, 0.225, 0.47, 0.22, 0.53, 0.4, 0.42, 0.665, 0.415, 0.5, 0.545, 0.595, 0.32, 0.57, 0.5, 0.605, 0.76, 0.31, 0.695, 0.54, 0.49, 0.375, 0.52, 0.415, 0.41, 0.515, 0.585, 0.43, 0.61, 0.57, 0.52, 0.6, 0.6, 0.505, 0.68, 0.52, 0.405, 0.565, 0.55, 0.52, 0.625, 0.57, 0.5, 0.575, 0.575, 0.575, 0.525, 0.635, 0.68, 0.465, 0.505, 0.64, 0.575, 0.455, 0.345, 0.52, 0.33, 0.43, 0.27, 0.69, 0.64, 0.505, 0.28, 0.28, 0.46, 0.325, 0.395, 0.75, 0.69, 0.59, 0.395, 0.49, 0.48, 0.625, 0.6, 0.62, 0.655, 0.61, 0.345, 0.62, 0.37, 0.51, 0.55, 0.625, 0.5, 0.385, 0.445, 0.715, 0.425, 0.605, 0.575, 0.615, 0.56, 0.325, 0.61, 0.72, 0.42, 0.675, 0.51, 0.575, 0.365, 0.67, 0.61, 0.4, 0.43, 0.66, 0.435, 0.53, 0.635, 0.255, 0.485, 0.46, 0.465, 0.555, 0.515, 0.47, 0.47, 0.245, 0.39, 0.425, 0.44, 0.405, 0.36, 0.52, 0.48, 0.49, 0.56, 0.65, 0.47, 0.525, 0.635, 0.37, 0.585, 0.435, 0.58, 0.455, 0.665, 0.49, 0.62, 0.4, 0.41, 0.62, 0.625, 0.72, 0.635, 0.63, 0.415, 0.38, 0.59, 0.71, 0.705, 0.45, 0.33, 0.605, 0.29, 0.6, 0.575, 0.37, 0.59, 0.665, 0.435, 0.505, 0.57, 0.35, 0.52, 0.58, 0.51, 0.565, 0.545, 0.65, 0.49, 0.645, 0.565, 0.745, 0.66, 0.5, 0.565, 0.575, 0.215, 0.585, 0.47, 0.485, 0.425, 0.49, 0.245, 0.56, 0.13, 0.585, 0.27, 0.615, 0.34, 0.505, 0.5, 0.645, 0.385, 0.33, 0.295, 0.53, 0.575, 0.47, 0.525, 0.285, 0.61, 0.6, 0.465, 0.54, 0.6, 0.44, 0.455, 0.615, 0.61, 0.63, 0.605, 0.44, 0.7, 0.54, 0.58, 0.295, 0.62, 0.605, 0.575, 0.475, 0.515, 0.655, 0.565, 0.59, 0.515, 0.59, 0.51, 0.57, 0.73, 0.605, 0.655, 0.29, 0.42, 0.415, 0.63, 0.5, 0.475, 0.365, 0.65, 0.58, 0.64, 0.67, 0.32, 0.63, 0.71, 0.56, 0.5, 0.71, 0.57, 0.38, 0.345, 0.525, 0.45, 0.22, 0.52, 0.47, 0.61, 0.47, 0.595, 0.52, 0.56, 0.65, 0.56, 0.33, 0.55, 0.71, 0.58, 0.475, 0.575, 0.71, 0.635, 0.61, 0.59, 0.665, 0.72, 0.455, 0.69, 0.445, 0.53, 0.57, 0.32, 0.21, 0.46, 0.6, 0.46, 0.575, 0.345, 0.41, 0.715, 0.6, 0.695, 0.58, 0.635, 0.36, 0.635, 0.605, 0.7, 0.49, 0.455, 0.6, 0.515, 0.625, 0.3, 0.545, 0.59, 0.695, 0.605, 0.535, 0.4, 0.495, 0.37, 0.42, 0.625, 0.755, 0.6, 0.25, 0.57, 0.61, 0.415, 0.55, 0.615, 0.72, 0.67, 0.585, 0.66, 0.63, 0.57, 0.48, 0.63, 0.28, 0.26, 0.3, 0.605, 0.63, 0.415, 0.38, 0.48, 0.45, 0.595, 0.485, 0.335, 0.375, 0.58, 0.47, 0.515, 0.225, 0.375, 0.485, 0.51, 0.645, 0.465, 0.53, 0.605, 0.66, 0.455, 0.34, 0.725, 0.5, 0.46, 0.63, 0.65, 0.575, 0.43, 0.415, 0.44, 0.66, 0.6, 0.61, 0.675, 0.27, 0.575, 0.41, 0.535, 0.465, 0.45, 0.66, 0.555, 0.585, 0.595, 0.595, 0.68, 0.62, 0.295, 0.445, 0.695, 0.55, 0.525, 0.605, 0.7, 0.53, 0.395, 0.45]\n",
            "[0.225, 0.37, 0.26, 0.23, 0.2215, 0.15, 0.2935, 0.19, 0.16899999999999998, 0.34, 0.3225, 0.135, 0.1325, 0.09, 0.4005, 0.345, 0.18, 0.37, 0.665, 0.245, 0.5015, 0.125, 0.49, 0.27, 0.32, 0.304, 0.054000000000000006, 0.275, 0.146, 0.12, 0.2, 0.222, 0.29, 0.085, 0.2445, 0.195, 0.465, 0.145, 0.4695, 0.032, 0.315, 0.39, 0.2475, 0.317, 0.47, 0.245, 0.19, 0.145, 0.281, 0.275, 0.32, 0.085, 0.435, 0.253, 0.113, 0.08, 0.253, 0.17, 0.09300000000000001, 0.16899999999999998, 0.19, 0.068, 0.1585, 0.461, 0.32, 0.27699999999999997, 0.43, 0.038, 0.185, 0.5315, 0.0605, 0.06, 0.456, 0.21, 0.325, 0.1295, 0.32, 0.3045, 0.265, 0.1895, 0.32, 0.245, 0.1685, 0.37799999999999995, 0.08, 0.43, 0.578, 0.375, 0.077, 0.19399999999999998, 0.087, 0.496, 0.502, 0.075, 0.035, 0.3685, 0.5285, 0.575, 0.275, 0.3, 0.078, 0.2385, 0.335, 0.1965, 0.145, 0.08, 0.409, 0.2845, 0.42, 0.3825, 0.205, 0.335, 0.2725, 0.113, 0.18, 0.31, 0.203, 0.175, 0.462, 0.075, 0.1305, 0.081, 0.1845, 0.075, 0.09, 0.439, 0.345, 0.1, 0.365, 0.135, 0.1975, 0.161, 0.271, 0.4, 0.276, 0.165, 0.15, 0.35, 0.2, 0.25, 0.374, 0.17, 0.0405, 0.08, 0.0105, 0.151, 0.41, 0.475, 0.01, 0.2765, 0.355, 0.215, 0.2485, 0.095, 0.042, 0.125, 0.1, 0.1555, 0.3, 0.0995, 0.035, 0.4525, 0.315, 0.16699999999999998, 0.3635, 0.2095, 0.2695, 0.263, 0.45, 0.182, 0.2875, 0.315, 0.235, 0.205, 0.0885, 0.1635, 0.205, 0.06, 0.1465, 0.26, 0.066, 0.0835, 0.08199999999999999, 0.4505, 0.17800000000000002, 0.03, 0.027999999999999997, 0.1065, 0.39, 0.26, 0.085, 0.48200000000000004, 0.054000000000000006, 0.07200000000000001, 0.07, 0.29, 0.2045, 0.488, 0.485, 0.09, 0.255, 0.6785, 0.16899999999999998, 0.1, 0.03, 0.03, 0.214, 0.2725, 0.18600000000000003, 0.215, 0.17, 0.265, 0.18, 0.505, 0.045, 0.35, 0.34, 0.057999999999999996, 0.046, 0.26, 0.22, 0.053, 0.018000000000000002, 0.045, 0.1345, 0.03, 0.1805, 0.214, 0.1485, 0.159, 0.495, 0.17, 0.1965, 0.33, 0.3745, 0.32, 0.1225, 0.315, 0.14800000000000002, 0.075, 0.305, 0.08, 0.395, 0.035, 0.78, 0.15, 0.191, 0.195, 0.027999999999999997, 0.19, 0.365, 0.04, 0.33, 0.395, 0.04, 0.03, 0.345, 0.155, 0.53, 0.013999999999999999, 0.11, 0.034, 0.175, 0.125, 0.27, 0.14, 0.055, 0.0495, 0.47600000000000003, 0.331, 0.355, 0.348, 0.28, 0.2165, 0.1505, 0.37, 0.53, 0.06, 0.03, 0.2925, 0.184, 0.115, 0.285, 0.317, 0.278, 0.39, 0.165, 0.2035, 0.125, 0.245, 0.38, 0.237, 0.2, 0.24, 0.245, 0.405, 0.063, 0.09, 0.0245, 0.14, 0.36, 0.265, 0.41, 0.19, 0.174, 0.055999999999999994, 0.251, 0.38, 0.02, 0.295, 0.0365, 0.3, 0.0385, 0.18, 0.325, 0.1145, 0.3105, 0.4575, 0.315, 0.2385, 0.1955, 0.3045, 0.305, 0.365, 0.17, 0.325, 0.36, 0.2705, 0.425, 0.385, 0.725, 0.0895, 0.3665, 0.1465, 0.027000000000000003, 0.045, 0.204, 0.21, 0.33, 0.2575, 0.335, 0.065, 0.085, 0.1105, 0.17, 0.1025, 0.25, 0.2365, 0.25, 0.195, 0.299, 0.23399999999999999, 0.0655, 0.36, 0.314, 0.358, 0.1385, 0.1845, 0.275, 0.39, 0.1785, 0.18, 0.1965, 0.3095, 0.11199999999999999, 0.205, 0.26, 0.2505, 0.036000000000000004, 0.006999999999999999, 0.113, 0.29, 0.36, 0.095, 0.20600000000000002, 0.15, 0.147, 0.1335, 0.08, 0.035, 0.025, 0.045, 0.21100000000000002, 0.315, 0.384, 0.27, 0.175, 0.225, 0.29, 0.12, 0.385, 0.305, 0.172, 0.235, 0.34299999999999997, 0.317, 0.065, 0.027000000000000003, 0.415, 0.136, 0.07, 0.127, 0.235, 0.49, 0.22, 0.315, 0.08, 0.1185, 0.235, 0.1765, 0.015, 0.1, 0.155, 0.13, 0.16, 0.245, 0.293, 0.175, 0.315, 0.044000000000000004, 0.205, 0.205, 0.325, 0.322, 0.08, 0.2, 0.0435, 0.27899999999999997, 0.057, 0.17, 0.175, 0.095, 0.018000000000000002, 0.235, 0.2545, 0.09699999999999999, 0.31, 0.498, 0.326, 0.223, 0.85, 0.35600000000000004, 0.23600000000000002, 0.275, 0.268, 0.3175, 0.395, 0.031, 0.365, 0.57, 0.251, 0.37, 0.185, 0.233, 0.121, 0.135, 0.20199999999999999, 0.4065, 0.125, 0.08, 0.115, 0.36, 0.172, 0.12, 0.43, 0.27, 0.2905, 0.185, 0.0735, 0.36, 0.3, 0.39, 0.3745, 0.5855, 0.24, 0.315, 0.14800000000000002, 0.354, 0.39899999999999997, 0.605, 0.2, 0.266, 0.139, 0.17600000000000002, 0.18, 0.1, 0.0875, 0.0155, 0.355, 0.185, 0.335, 0.1165, 0.17, 0.35, 0.23, 0.319, 0.16, 0.2815, 0.03, 0.325, 0.325, 0.27, 0.27399999999999997, 0.095, 0.05, 0.28, 0.044000000000000004, 0.287, 0.5, 0.21, 0.4, 0.374, 0.165, 0.29100000000000004, 0.239, 0.19, 0.253, 0.3, 0.0605, 0.154, 0.2625, 0.135, 0.32, 0.455, 0.0425, 0.365, 0.2285, 0.28, 0.1265, 0.1405, 0.3, 0.295, 0.0035, 0.215, 0.01, 0.406, 0.075, 0.183, 0.095, 0.4, 0.158, 0.32, 0.174, 0.135, 0.4, 0.3, 0.125, 0.435, 0.005, 0.361, 0.406, 0.125, 0.225, 0.251, 0.0915, 0.32, 0.275, 0.425, 0.23, 0.385, 0.4425, 0.2155, 0.3605, 0.26899999999999996, 0.445, 0.315, 0.2, 0.465, 0.165, 0.16899999999999998, 0.441, 0.004, 0.166, 0.41600000000000004, 0.075, 0.245, 0.064, 0.34, 0.12, 0.3, 0.57, 0.47, 0.508, 0.013000000000000001, 0.2375, 0.09, 0.235, 0.45299999999999996, 0.475, 0.1595, 0.035, 0.2525, 0.12, 0.11699999999999999, 0.08900000000000001, 0.6585, 0.084, 0.285, 0.07, 0.185, 0.28, 0.125, 0.38, 0.29, 0.5, 0.34, 0.1, 0.095, 0.1115, 0.27, 0.204, 0.365, 0.5235, 0.5015, 0.547, 0.54, 0.20199999999999999, 0.185, 0.345, 0.07, 0.39, 0.39, 0.125, 0.265, 0.205, 0.091, 0.285, 0.23, 0.41, 0.125, 0.205, 0.1515, 0.086, 0.21, 0.1405, 0.265, 0.255, 0.055, 0.171, 0.255, 0.09, 0.22, 0.16, 0.138, 0.355, 0.06, 0.512, 0.252, 0.225, 0.239, 0.3145, 0.305, 0.175, 0.17, 0.2415, 0.35, 0.285, 0.15, 0.27, 0.225, 0.19, 0.298, 0.353, 0.2385, 0.385, 0.12300000000000001, 0.3065, 0.045, 0.263, 0.31, 0.015, 0.47, 0.12, 0.07, 0.095, 0.102, 0.58, 0.469, 0.09300000000000001, 0.195, 0.465, 0.3555, 0.34, 0.275, 0.3345, 0.56, 0.214, 0.126, 0.47100000000000003, 0.3005, 0.23600000000000002, 0.65, 0.026000000000000002, 0.355, 0.16899999999999998, 0.66, 0.1825, 0.177, 0.0985, 0.253, 0.1395, 0.0755, 0.255, 0.185, 0.3235, 0.319, 0.242, 0.06, 0.3595, 0.009000000000000001, 0.08, 0.065, 0.062, 0.075, 0.1755, 0.401, 0.13, 0.3425, 0.24, 0.2885, 0.28, 0.265, 0.4195, 0.175, 0.085, 0.031, 0.204, 0.12, 0.364, 0.015, 0.02, 0.1045, 0.35200000000000004, 0.2335, 0.305, 0.3035, 0.12, 0.1335, 0.1185, 0.055, 0.24, 0.185, 0.205, 0.26, 0.2895, 0.1525, 0.445, 0.1395, 0.1775, 0.053, 0.08, 0.135, 0.045, 0.105, 0.349, 0.5295, 0.52, 0.04, 0.32299999999999995, 0.035, 0.228, 0.25, 0.897, 0.47, 0.08, 0.355, 0.105, 0.885, 0.34, 0.07, 0.2335, 0.1135, 0.43, 0.385, 0.499, 0.22, 0.11, 0.4545, 0.322, 0.2915, 0.156, 0.305, 0.535, 0.09300000000000001, 0.0775, 0.03, 0.25, 0.065, 0.196, 0.08, 0.2835, 0.4165, 0.175, 0.21, 0.2455, 0.275, 0.13, 0.335, 0.18, 0.3, 0.28300000000000003, 0.14, 0.335, 0.07, 0.37, 0.2725, 0.1245, 0.155, 0.4, 0.105, 0.105, 0.32, 0.239, 0.23800000000000002, 0.1835, 0.3, 0.0495, 0.265, 0.2665, 0.055, 0.057999999999999996, 0.31, 0.0865, 0.31, 0.29, 0.28, 0.431, 0.2765, 0.075, 0.381, 0.2175, 0.14, 0.1345, 0.36, 0.0125, 0.491, 0.055, 0.172, 0.2345, 0.06, 0.28, 0.109, 0.10300000000000001, 0.01, 0.0765, 0.195, 0.3735, 0.642, 0.04, 0.212, 0.41, 0.23, 0.365, 0.235, 0.31, 0.0745, 0.09, 0.01, 0.345, 0.1835, 0.44, 0.365, 0.217, 0.098, 0.175, 0.15, 0.3255, 0.192, 0.25, 0.275, 0.39799999999999996, 0.375, 0.4, 0.213, 0.395, 0.3695, 0.28, 0.111, 0.1405, 0.335, 0.0925, 0.11, 0.0985, 0.235, 0.235, 0.23, 0.1255, 0.3645, 0.52, 0.4535, 0.075, 0.205, 0.3705, 0.08, 0.185, 0.16, 0.0455, 0.26, 0.55, 0.39, 0.25, 0.525, 0.25, 0.1645, 0.5085, 0.2875, 0.165, 0.1775, 0.2515, 0.0975, 0.035, 0.19899999999999998, 0.1, 0.294, 0.3175, 0.2615, 0.5215, 0.1525, 0.3345, 0.28800000000000003, 0.2785, 0.22, 0.276, 0.485, 0.135, 0.22, 0.065, 0.1645, 0.02, 0.1375, 0.3995, 0.3085, 0.1535, 0.29, 0.1, 0.265, 0.25, 0.12, 0.10099999999999999, 0.065, 0.1455, 0.22, 0.235, 0.07, 0.265, 0.025, 0.264, 0.363, 0.24, 0.2595, 0.4375, 0.0215, 0.38, 0.43, 0.385, 0.24, 0.168, 0.255, 0.131, 0.319, 0.2215, 0.665, 0.106, 0.295, 0.155, 0.3225, 0.055, 0.1045, 0.02, 0.0445, 0.315, 0.235, 0.2, 0.315, 0.18899999999999997, 0.275, 0.128, 0.335, 0.1725, 0.345, 0.5055, 0.27, 0.4045, 0.22, 0.265, 0.1, 0.05, 0.12, 0.305, 0.1695, 0.22, 0.183, 0.815, 0.075, 0.075, 0.1375, 0.185, 0.25, 0.021, 0.06, 0.215, 0.15, 0.195, 0.2745, 0.32, 0.295, 0.725, 0.14, 0.395, 0.42, 0.055, 0.171, 0.215, 0.057999999999999996, 0.215, 0.25, 0.145, 0.1785, 0.2765, 0.28, 0.295, 0.35, 0.2735, 0.105, 0.265, 0.077, 0.0225, 0.2675, 0.1455, 0.135, 0.18, 0.21899999999999997, 0.2, 0.1645, 0.126, 0.27, 0.23, 0.2425, 0.5385, 0.424, 0.025, 0.15, 0.035, 0.23600000000000002, 0.235, 0.305, 0.335, 0.365, 0.15, 0.195, 0.19, 0.175, 0.16699999999999998, 0.71, 0.602, 0.15, 0.35, 0.01, 0.285, 0.305, 0.27399999999999997, 0.2645, 0.0575, 0.557, 0.078, 0.2, 0.297, 0.035, 0.2655, 0.21, 0.105, 0.24, 0.155, 0.196, 0.18, 0.325, 0.5165, 0.12, 0.0645, 0.085, 0.355, 0.109, 0.265, 0.415, 0.11699999999999999, 0.3315, 0.054000000000000006, 0.325, 0.09, 0.22, 0.11, 0.13, 0.065, 0.345, 0.067, 0.2505, 0.175, 0.14300000000000002, 0.13, 0.175, 0.0345, 0.0215, 0.105, 0.20199999999999999, 0.344, 0.08, 0.0675, 0.285, 0.375, 0.36, 0.22, 0.4265, 0.34, 0.33899999999999997, 0.17, 0.1525, 0.096, 0.2, 0.009000000000000001, 0.512, 0.3985, 0.0995, 0.23, 0.22, 0.42, 0.34299999999999997, 0.155, 0.06, 0.195, 0.09, 0.1035, 0.33, 0.358, 0.3, 0.294, 0.163, 0.12, 0.301, 0.2425, 0.34700000000000003, 0.239, 0.6745, 0.5655, 0.24600000000000002, 0.12, 0.105, 0.1815, 0.22, 0.265, 0.4935, 0.016, 0.23, 0.145, 0.2515, 0.033, 0.386, 0.44, 0.29, 0.4505, 0.0815, 0.305, 0.26899999999999996, 0.255, 0.13, 0.355, 0.16, 0.158, 0.3575, 0.07, 0.2835, 0.22, 0.337, 0.39, 0.205, 0.055, 0.175, 0.315, 0.255, 0.325, 0.35700000000000004, 0.255, 0.275, 0.1085, 0.15, 0.145, 0.26, 0.395, 0.295, 0.115, 0.32, 0.1945, 0.145, 0.2565, 0.4705, 0.3305, 0.175, 0.24, 0.35, 0.25, 0.465, 0.1665, 0.441, 0.4275, 0.355, 0.048, 0.2065, 0.535, 0.255, 0.165, 0.1825, 0.08900000000000001, 0.309, 0.48, 0.335, 0.391, 0.45, 0.315, 0.46, 0.52, 0.58, 0.185, 0.3035, 0.2, 0.406, 0.37, 0.067, 0.065, 0.09, 0.35, 0.2075, 0.311, 0.265, 0.3465, 0.39, 0.062, 0.37, 0.25, 0.1575, 0.315, 0.009000000000000001, 0.13, 0.0525, 0.228, 0.14300000000000002, 0.075, 0.48, 0.3095, 0.1025, 0.33899999999999997, 0.154, 0.345, 0.0465, 0.39, 0.12, 0.203, 0.19, 0.46799999999999997, 0.125, 0.165, 0.3965, 0.29, 0.271, 0.26, 0.415, 0.2, 0.05, 0.155, 0.601, 0.1405, 0.51, 0.285, 0.335, 0.25, 0.083, 0.215, 0.35, 0.0735, 0.4865, 0.27, 0.161, 0.201, 0.105, 0.259, 0.03, 0.085, 0.081, 0.045, 0.105, 0.162, 0.235, 0.0695, 0.14, 0.21, 0.215, 0.161, 0.13, 0.295, 0.349, 0.3, 0.155, 0.111, 0.254, 0.255, 0.255, 0.1955, 0.0635, 0.0065, 0.015, 0.18, 0.013000000000000001, 0.1535, 0.1825, 0.1, 0.21, 0.175, 0.2235, 0.157, 0.24, 0.18, 0.1895, 0.081, 0.355, 0.565, 0.465, 0.126, 0.145, 0.11, 0.185, 0.285, 0.42, 0.045, 0.21899999999999997, 0.21, 0.285, 0.245, 0.013000000000000001, 0.185, 0.008, 0.1275, 0.285, 0.205, 0.1335, 0.0505, 0.354, 0.235, 0.586, 0.2515, 0.12, 0.344, 0.0305, 0.33899999999999997, 0.105, 0.201, 0.31, 0.16899999999999998, 0.25, 0.215, 0.386, 0.474, 0.355, 0.25, 0.0735, 0.0095, 0.115, 0.21, 0.03, 0.032, 0.213, 0.5675, 0.41, 0.2215, 0.1765, 0.185, 0.4435, 0.657, 0.23, 0.12, 0.15, 0.405, 0.39, 0.036000000000000004, 0.2885, 0.2305, 0.256, 0.185, 0.2485, 0.4305, 0.105, 0.0585, 0.2925, 0.31, 0.05, 0.2885, 0.335, 0.33, 0.005, 0.495, 0.24, 0.624, 0.355, 0.055, 0.2, 0.1615, 0.42, 0.245, 0.2575, 0.29, 0.332, 0.2245, 0.1155, 0.21, 0.25, 0.315, 0.0135, 0.1015, 0.435, 0.145, 0.177, 0.25, 0.335, 0.371, 0.488, 0.2265, 0.355, 0.3725, 0.195, 0.040999999999999995, 0.065, 0.305, 0.302, 0.3135, 0.295, 0.11, 0.0355, 0.22, 0.45, 0.21, 0.145, 0.11599999999999999, 0.51, 0.25, 0.185, 0.175, 0.5379999999999999, 0.20199999999999999, 0.635, 0.129, 0.22, 0.3985, 0.1175, 0.185, 0.1785, 0.315, 0.034, 0.0855, 0.125, 0.209, 0.273, 0.055, 0.032, 0.155, 0.2745, 0.1795, 0.077, 0.315, 0.168, 0.26, 0.285, 0.27699999999999997, 0.09, 0.363, 0.2965, 0.16399999999999998, 0.25, 0.38, 0.065, 0.065, 0.33, 0.235, 0.35, 0.2985, 0.253, 0.085, 0.275, 0.22, 0.4025, 0.1745, 0.584, 0.2435, 0.215, 0.16, 0.095, 0.275, 0.155, 0.08199999999999999, 0.4645, 0.213, 0.12, 0.405, 0.255, 0.545, 0.685, 0.13, 0.41, 0.405, 0.195, 0.355, 0.409, 0.395, 0.1195, 0.48, 0.3725, 0.465, 0.11, 0.3685, 0.35, 0.40700000000000003, 0.08199999999999999, 0.1685, 0.18, 0.16, 0.4295, 0.135, 0.085, 0.027000000000000003, 0.062, 0.39, 0.2615, 0.3875, 0.06, 0.05, 0.165, 0.386, 0.285, 0.034, 0.184, 0.516, 0.29, 0.043, 0.047, 0.2245, 0.4, 0.1325, 0.09, 0.585, 0.375, 0.07, 0.355, 0.33, 0.295, 0.42, 0.47, 0.38799999999999996, 0.25, 0.436, 0.24, 0.205, 0.264, 0.06, 0.449, 0.415, 0.22, 0.24, 0.085, 0.18100000000000002, 0.03, 0.07, 0.375, 0.265, 0.28, 0.228, 0.4025, 0.03, 0.115, 0.355, 0.235, 0.285, 0.435, 0.106, 0.22, 0.094, 0.245, 0.295, 0.1845, 0.3725, 0.20800000000000002, 0.2215, 0.36, 0.2565, 0.2915, 0.175, 0.3175, 0.47, 0.21, 0.327, 0.48, 0.445, 0.134, 0.3725, 0.23600000000000002, 0.259, 0.15, 0.43, 0.2425, 0.105, 0.308, 0.325, 0.48, 0.27, 0.06, 0.3, 0.1035, 0.344, 0.341, 0.4, 0.075, 0.07, 0.1205, 0.09, 0.235, 0.067, 0.43200000000000005, 0.11199999999999999, 0.18, 0.187, 0.47, 0.161, 0.14400000000000002, 0.405, 0.24, 0.36, 0.14, 0.315, 0.095, 0.065, 0.505, 0.086, 0.40299999999999997, 0.2035, 0.182, 0.19, 0.01, 0.249, 0.16, 0.012, 0.2845, 0.052000000000000005, 0.2115, 0.37, 0.2785, 0.3505, 0.3545, 0.019, 0.151, 0.5195, 0.22, 0.295, 0.175, 0.0765, 0.37200000000000005, 0.07, 0.271, 0.3055, 0.20600000000000002, 0.12, 0.295, 0.4135, 0.3485, 0.115, 0.1765, 0.07, 0.405, 0.49, 0.1985, 0.105, 0.431, 0.54, 0.33, 0.086, 0.1405, 0.278, 0.21, 0.3185, 0.364, 0.26, 0.36, 0.37, 0.39, 0.35, 0.31, 0.0325, 0.3845, 0.0575, 0.135, 0.175, 0.08199999999999999, 0.1815, 0.335, 0.726, 0.235, 0.1895, 0.23, 0.122, 0.29, 0.1875, 0.38, 0.065, 0.195, 0.0945, 0.3, 0.185, 0.175, 0.32, 0.1, 0.12300000000000001, 0.405, 0.0825, 0.29, 0.405, 0.316, 0.223, 0.22, 0.155, 0.315, 0.49, 0.51, 0.0655, 0.13, 0.075, 0.1, 0.175, 0.172, 0.0715, 0.305, 0.135, 0.365, 0.585, 0.3395, 0.345, 0.195, 0.129, 0.13, 0.19, 0.32, 0.1045, 0.1535, 0.11, 0.12, 0.23, 0.42, 0.406, 0.159, 0.225, 0.391, 0.005, 0.0775, 0.31, 0.064, 0.295, 0.12, 0.0405, 0.07, 0.2475, 0.295, 0.445, 0.305, 0.268, 0.235, 0.31, 0.425, 0.244, 0.1075, 0.2705, 0.11699999999999999, 0.295, 0.3385, 0.135, 0.2405, 0.335, 0.139, 0.271, 0.25, 0.237, 0.01, 0.39, 0.165, 0.27, 0.39, 0.065, 0.49, 0.26, 0.03, 0.58, 0.205, 0.405, 0.365, 0.04, 0.42200000000000004, 0.02, 0.431, 0.076, 0.31, 0.155, 0.2655, 0.435, 0.094, 0.105, 0.213, 0.27, 0.245, 0.17, 0.08800000000000001, 0.34, 0.12, 0.52, 0.345, 0.209, 0.235, 0.2215, 0.233, 0.244, 0.276, 0.32, 0.214, 0.115, 0.1785, 0.091, 0.285, 0.3455, 0.125, 0.76, 0.49, 0.377, 0.14, 0.375, 0.505, 0.0415, 0.22, 0.085, 0.5375, 0.485, 0.0425, 0.292, 0.0725, 0.1515, 0.3205, 0.033, 0.005, 0.415, 0.14, 0.11, 0.023, 0.2595, 0.175, 0.1035, 0.1835, 0.165, 0.1895, 0.045, 0.1165, 0.1095, 0.11, 0.355, 0.115, 0.161, 1.005, 0.15, 0.2825, 0.2515, 0.2865, 0.142, 0.165, 0.237, 0.345, 0.31, 0.11, 0.11699999999999999, 0.053, 0.035, 0.348, 0.375, 0.29, 0.295, 0.3925, 0.335, 0.37, 0.3075, 0.2965, 0.0315, 0.085, 0.22, 0.254, 0.0125, 0.115, 0.255, 0.455, 0.03, 0.221, 0.11900000000000001, 0.055, 0.008, 0.24, 0.389, 0.265, 0.155, 0.075, 0.28300000000000003, 0.134, 0.33, 0.228, 0.19, 0.34, 0.3345, 0.265, 0.39, 0.19, 0.22, 0.305, 0.158, 0.275, 0.315, 0.513, 0.335, 0.37, 0.418, 0.29600000000000004, 0.2875, 0.07, 0.068, 0.1345, 0.26, 0.0185, 0.12, 0.135, 0.098, 0.0775, 0.43, 0.135, 0.069, 0.295, 0.26899999999999996, 0.03, 0.0815, 0.12300000000000001, 0.08, 0.315, 0.05, 0.28, 0.17, 0.315, 0.2135, 0.29100000000000004, 0.225, 0.415, 0.235, 0.315, 0.1885, 0.485, 0.145, 0.25, 0.275, 0.255, 0.17, 0.2365, 0.068, 0.1135, 0.1, 0.255, 0.285, 0.085, 0.34299999999999997, 0.0835, 0.03, 0.278, 0.2825, 0.285, 0.375, 0.545, 0.325, 0.061, 0.1, 0.38, 0.52, 0.08, 0.295, 0.33, 0.275, 0.49, 0.198, 0.087, 0.32, 0.08, 0.23800000000000002, 0.265, 0.32, 0.3165, 0.413, 0.36, 0.0835, 0.035, 0.292, 0.009000000000000001, 0.043, 0.027000000000000003, 0.135, 0.44, 0.325, 0.0195, 0.0365, 0.1425, 0.083, 0.3065, 0.26, 0.195, 0.11, 0.2875, 0.215, 0.4075, 0.085, 0.109, 0.0215, 0.017, 0.17, 0.24, 0.215, 0.28, 0.4625, 0.1135, 0.21, 0.335, 0.3, 0.345, 0.2295, 0.0075, 0.4055, 0.4375, 0.341, 0.06, 0.1545, 0.03, 0.155, 0.385, 0.0765, 0.196, 0.195, 0.36, 0.13, 0.2425, 0.011000000000000001, 0.365, 0.565, 0.165, 0.40399999999999997, 0.315, 0.055, 0.22699999999999998, 0.0225, 0.1545, 0.08, 0.455, 0.109, 0.1635, 0.335, 0.145, 0.0885, 0.415, 0.2945, 0.255, 0.193, 0.3815, 0.285, 0.006, 0.405, 0.195, 0.1775, 0.18, 0.1675, 0.23, 0.32, 0.575, 0.263, 0.53, 0.37799999999999995, 0.315, 0.2155, 0.32, 0.175, 0.031, 0.525, 0.16899999999999998, 0.205, 0.172, 0.1185, 0.23, 0.425, 0.332, 0.0105, 0.09, 0.24, 0.32, 0.15, 0.19, 0.275, 0.125, 0.10300000000000001, 0.245, 0.4895, 0.125, 0.1605, 0.157, 0.306, 0.07, 0.354, 0.355, 0.245, 0.096, 0.0725, 0.3225, 0.115, 0.5335, 0.25, 0.325, 0.3595, 0.2575, 0.485, 0.14300000000000002, 0.0705, 0.3535, 0.4755, 0.055, 0.235, 0.215, 0.2695, 0.16699999999999998, 0.395, 0.275, 0.24, 0.287, 0.2425, 0.284, 0.4, 0.27, 0.185, 0.237, 0.36, 0.1975, 0.105, 0.075, 0.23600000000000002, 0.4945, 0.42, 0.0805, 0.446, 0.0755, 0.2, 0.292, 0.19399999999999998, 0.354, 0.474, 0.07, 0.2185, 0.3535, 0.15, 0.435, 0.063, 0.285, 0.3995, 0.205, 0.248, 0.33, 0.175, 0.159, 0.3465, 0.2015, 0.054000000000000006, 0.2505, 0.26, 0.4105, 0.18, 0.21, 0.475, 0.317, 0.19, 0.275, 0.0615, 0.265, 0.505, 0.41, 0.147, 0.31, 0.1455, 0.2, 0.255, 0.32, 0.21, 0.285, 0.295, 0.32, 0.35200000000000004, 0.195, 0.34, 0.612, 0.1625, 0.184, 0.38, 0.016, 0.315, 0.207, 0.1305, 0.253, 0.22699999999999998, 0.011000000000000001, 0.149, 0.135, 0.37, 0.384, 0.247, 0.58, 0.245, 0.2645, 0.305, 0.32, 0.195, 0.465, 0.085, 0.294, 0.309, 0.165, 0.165, 0.225, 0.3, 0.1325, 0.225, 0.165, 0.23800000000000002, 0.305, 0.125, 0.4535, 0.185, 0.3245, 0.255, 0.3685, 0.295, 0.011000000000000001, 0.175, 0.1535, 0.495, 0.02, 0.341, 0.2765, 0.265, 0.38, 0.0795, 0.28, 0.2475, 0.46, 0.008, 0.213, 0.27699999999999997, 0.54, 0.445, 0.285, 0.06, 0.005, 0.275, 0.13, 0.4465, 0.0935, 0.145, 0.3075, 0.38, 0.506, 0.215, 0.177, 0.174, 0.09, 0.278, 0.415, 0.175, 0.3155, 0.16, 0.41, 0.259, 0.515, 0.03, 0.046, 0.28600000000000003, 0.12, 0.315, 0.179, 0.40299999999999997, 0.4395, 0.155, 0.31, 0.1, 0.44, 0.255, 0.324, 0.053, 0.46, 0.2575, 0.179, 0.125, 0.21, 0.3865, 0.43799999999999994, 0.125, 0.147, 0.11, 0.336, 0.62, 0.035, 0.3085, 0.369, 0.2515, 0.1325, 0.335, 0.32799999999999996, 0.1835, 0.17, 0.14, 0.446, 0.0225, 0.48, 0.3005, 0.0615, 0.287, 0.14, 0.455, 0.37, 0.145, 0.47700000000000004, 0.047, 0.145, 0.175, 0.135, 0.1185, 0.3985, 0.31, 0.28300000000000003, 0.0615, 0.445, 0.305, 0.17, 0.253, 0.09, 0.27399999999999997, 0.12300000000000001, 0.245, 0.19, 0.4395, 0.248, 0.485, 0.06, 0.41200000000000003, 0.33, 0.26, 0.415, 0.29, 0.13, 0.105, 0.4485, 0.195, 0.066, 0.11900000000000001, 0.2325, 0.24600000000000002, 0.2265, 0.4675, 0.285, 0.1, 0.365, 0.0255, 0.125, 0.0225, 0.175, 0.0735, 0.292, 0.52, 0.135, 0.005, 0.2735, 0.135, 0.25, 0.389, 0.34, 0.125, 0.37, 0.18, 0.35, 0.371, 0.218, 0.395, 0.27, 0.081, 0.254, 0.155, 0.4305, 0.2065, 0.245, 0.16, 0.4175, 0.245, 0.24, 0.035, 0.055, 0.43700000000000006, 0.0935, 0.3, 0.265, 0.348, 0.265, 0.2605, 0.33, 0.2, 0.146, 0.3475, 0.31, 0.335, 0.17, 0.055, 0.2195, 0.44, 0.349, 0.34299999999999997, 0.41, 0.0585, 0.185, 0.23800000000000002, 0.155, 0.13, 0.17, 0.0495, 0.3315, 0.1855, 0.09, 0.0695, 0.3185, 0.192, 0.405, 0.595, 0.075, 0.3455, 0.1465, 0.23, 0.1945, 0.235, 0.255, 0.24, 0.07, 0.3305, 0.621, 0.2, 0.0925, 0.2285, 0.054000000000000006, 0.0015, 0.3775, 0.048, 0.12300000000000001, 0.33, 0.263, 0.11, 0.345, 0.1325, 0.47100000000000003, 0.038, 0.345, 0.345, 0.19, 0.114, 0.1, 0.2235, 0.31, 0.02, 0.185, 0.46, 0.185, 0.03, 0.32299999999999995, 0.07, 0.142, 0.035, 0.19, 0.498, 0.165, 0.223, 0.092, 0.5755, 0.075, 0.265, 0.4085, 0.1185, 0.145, 0.37, 0.21600000000000003, 0.315, 0.48, 0.3445, 0.35, 0.355, 0.067, 0.215, 0.19, 0.37, 0.045, 0.1175, 0.25, 0.4215, 0.4, 0.1375, 0.2845, 0.265, 0.0955, 0.26, 0.42, 0.275, 0.28, 0.29, 0.1215, 0.295, 0.25, 0.085, 0.135, 0.4245, 0.49700000000000005, 0.1035, 0.27, 0.13, 0.1, 0.0875, 0.11900000000000001, 0.15, 0.275, 0.21100000000000002, 0.41, 0.375, 0.285, 0.31, 0.255, 0.3, 0.075, 0.495, 0.3105, 0.157, 0.295, 0.0745, 0.4685, 0.41200000000000003, 0.3165, 0.11, 0.15, 0.215, 0.71, 0.1495, 0.09, 0.273, 0.3015, 0.129, 0.2475, 0.1655, 0.09, 0.5, 0.3725, 0.39, 0.434, 0.264, 0.249, 0.4525, 0.37200000000000005, 0.1355, 0.28, 0.105, 0.04, 0.425, 0.17, 0.085, 0.287, 0.21, 0.31, 0.488, 0.245, 0.115, 0.075, 0.295, 0.035, 0.285, 0.247, 0.515, 0.068, 0.166, 0.225, 0.165, 0.207, 0.1475, 0.315, 0.14, 0.32, 0.22, 0.0975, 0.142, 0.4355, 0.2, 0.3205, 0.488, 0.26, 0.185, 0.06, 0.05, 0.131, 0.175, 0.3745, 0.2315, 0.3795, 0.18, 0.07, 0.185, 0.28, 0.26899999999999996, 0.055, 0.37, 0.18899999999999997, 0.1505, 0.248, 0.285, 0.638, 0.29, 0.285, 0.19399999999999998, 0.06, 0.38, 0.455, 0.6195, 0.057999999999999996, 0.29, 0.14400000000000002, 0.36, 0.3, 0.4535, 0.155, 0.1405, 0.12, 0.27, 0.2, 0.10300000000000001, 0.353, 0.37, 0.11, 0.1275, 0.045, 0.1795, 0.245, 0.45, 0.3, 0.33, 0.625, 0.494, 0.245, 0.3925, 0.69, 0.4405, 0.08800000000000001, 0.265, 0.5, 0.3705, 0.345, 0.2255, 0.01, 0.1955, 0.087, 0.0865, 0.03, 0.192, 0.02, 0.005, 0.37, 0.275, 0.125, 0.2125, 0.17, 0.39899999999999997, 0.25, 0.175, 0.1455, 0.3085, 0.04, 0.175, 0.11, 0.325, 0.1915, 0.315, 0.305, 0.545, 0.1105, 0.06, 0.16, 0.365, 0.1305, 0.08199999999999999, 0.166, 0.1, 0.1625, 0.14, 0.22, 0.289, 0.34600000000000003, 0.035, 0.005, 0.258, 0.147, 0.295, 0.18899999999999997, 0.3285, 0.10400000000000001, 0.28600000000000003, 0.3185, 0.16, 0.08800000000000001, 0.21, 0.115, 0.12, 0.4705, 0.2365, 0.35, 0.34, 0.6095, 0.3005, 0.27, 0.05, 0.34, 0.185, 0.17300000000000001, 0.265, 0.2635, 0.22, 0.555, 0.3, 0.212, 0.2765, 0.42, 0.1345, 0.34, 0.21, 0.19, 0.305, 0.054000000000000006, 0.485, 0.32, 0.04, 0.345, 0.5529999999999999, 0.141, 0.245, 0.295, 0.1735, 0.355, 0.2605, 0.345, 0.0715, 0.0345, 0.225, 0.355, 0.3, 0.11, 0.1535, 0.7975, 0.25, 0.008, 0.255, 0.14, 0.3115, 0.1985, 0.21, 0.28, 0.262, 0.265, 0.5175, 0.4, 0.185, 0.135, 0.387, 0.045, 0.015, 0.168, 0.4, 0.289, 0.04, 0.026000000000000002, 0.41, 0.067, 0.36, 0.344, 0.39, 0.245, 0.325, 0.28, 0.265, 0.1505, 0.0885, 0.39799999999999996, 0.295, 0.294, 0.33, 0.16, 0.1095, 0.085, 0.2185, 0.3525, 0.3, 0.259, 0.03, 0.025, 0.195, 0.065, 0.19, 0.401, 0.05, 0.065, 0.08, 0.175, 0.435, 0.14800000000000002, 0.15, 0.156, 0.17, 0.075, 0.345, 0.3285, 0.2255, 0.03, 0.48, 0.335, 0.037000000000000005, 0.405, 0.2515, 0.025, 0.305, 0.3, 0.265, 0.503, 0.0215, 0.185, 0.079, 0.41, 0.0905, 0.19, 0.083, 0.25, 0.57, 0.11, 0.225, 0.0415, 0.07200000000000001, 0.17800000000000002, 0.358, 0.289, 0.263, 0.075, 0.1345, 0.26, 0.264, 0.225, 0.3, 0.085, 0.31, 0.25, 0.42, 0.345, 0.16699999999999998, 0.3665, 0.025, 0.06, 0.25, 0.015, 0.23, 0.04, 0.205, 0.406, 0.317, 0.19, 0.04, 0.3615, 0.26, 0.184, 0.13, 0.235, 0.266, 0.05, 0.435, 0.249, 0.325, 0.127, 0.168, 0.4525, 0.262, 0.146, 0.355, 0.1465, 0.29, 0.27, 0.195, 0.3965, 0.14400000000000002, 0.16, 0.225, 0.275, 0.285, 0.01, 0.3315, 0.2585, 0.22, 0.185, 0.3885, 0.184, 0.034, 0.34, 0.29, 0.225, 0.259, 0.136, 0.04, 0.02, 0.1005, 0.48, 0.06, 0.285, 0.015, 0.155, 0.015, 0.2105, 0.0765, 0.1025, 0.37, 0.109, 0.195, 0.18, 0.361, 0.049, 0.22399999999999998, 0.1565, 0.275, 0.6459999999999999, 0.045, 0.4375, 0.34, 0.21, 0.1125, 0.195, 0.0805, 0.08, 0.162, 0.3, 0.105, 0.295, 0.275, 0.2, 0.36, 0.27, 0.17800000000000002, 0.6, 0.19, 0.11, 0.26, 0.375, 0.165, 0.3115, 0.265, 0.17, 0.285, 0.34, 0.35, 0.285, 0.31, 0.515, 0.125, 0.156, 0.321, 0.215, 0.1205, 0.07, 0.22, 0.0445, 0.109, 0.0285, 0.341, 0.28800000000000003, 0.18, 0.0335, 0.035, 0.19, 0.045, 0.098, 0.445, 0.46, 0.24, 0.08, 0.1845, 0.17, 0.381, 0.275, 0.3, 0.315, 0.32, 0.07, 0.31, 0.065, 0.195, 0.311, 0.4, 0.1565, 0.08, 0.1195, 0.5075, 0.0725, 0.3, 0.245, 0.2685, 0.41, 0.062, 0.29, 0.501, 0.085, 0.45299999999999996, 0.1555, 0.35, 0.0655, 0.316, 0.267, 0.105, 0.12300000000000001, 0.455, 0.115, 0.245, 0.35, 0.025, 0.1555, 0.114, 0.1505, 0.2095, 0.195, 0.145, 0.145, 0.02, 0.085, 0.095, 0.115, 0.091, 0.09, 0.215, 0.135, 0.1615, 0.355, 0.335, 0.135, 0.225, 0.45, 0.075, 0.225, 0.1135, 0.28, 0.1, 0.353, 0.14300000000000002, 0.39, 0.095, 0.10300000000000001, 0.35, 0.3185, 0.5305, 0.3825, 0.515, 0.115, 0.09, 0.275, 0.5660000000000001, 0.49, 0.145, 0.055, 0.275, 0.04, 0.355, 0.26, 0.075, 0.28, 0.3445, 0.095, 0.225, 0.285, 0.07, 0.24, 0.3265, 0.2, 0.26, 0.21600000000000003, 0.215, 0.24, 0.3745, 0.25, 0.5579999999999999, 0.61, 0.22, 0.275, 0.2705, 0.02, 0.2875, 0.15, 0.313, 0.1065, 0.195, 0.025, 0.37, 0.004, 0.285, 0.036000000000000004, 0.345, 0.0525, 0.239, 0.179, 0.395, 0.1, 0.055, 0.04, 0.265, 0.217, 0.1365, 0.168, 0.0335, 0.2985, 0.308, 0.1185, 0.1765, 0.36700000000000005, 0.184, 0.145, 0.292, 0.384, 0.3365, 0.335, 0.113, 0.461, 0.24, 0.33, 0.05, 0.3275, 0.335, 0.3, 0.1435, 0.1415, 0.565, 0.26, 0.295, 0.2, 0.34, 0.1805, 0.405, 0.643, 0.3345, 0.425, 0.045, 0.1015, 0.0925, 0.45, 0.16899999999999998, 0.215, 0.07, 0.38, 0.27, 0.39, 0.425, 0.049, 0.375, 0.435, 0.235, 0.16, 0.45, 0.223, 0.21, 0.059000000000000004, 0.2225, 0.15, 0.02, 0.205, 0.155, 0.37, 0.18, 0.425, 0.17, 0.2175, 0.3095, 0.26, 0.05, 0.221, 0.475, 0.2795, 0.185, 0.33, 0.6855, 0.363, 0.33, 0.2595, 0.47, 0.48, 0.145, 0.555, 0.105, 0.175, 0.265, 0.042, 0.015, 0.155, 0.298, 0.1175, 0.26, 0.075, 0.091, 0.42, 0.262, 0.4505, 0.2445, 0.2715, 0.07, 0.34700000000000003, 0.31, 0.42, 0.165, 0.135, 0.28, 0.17, 0.321, 0.037000000000000005, 0.305, 0.28, 0.5, 0.293, 0.2035, 0.1175, 0.1495, 0.0675, 0.0945, 0.401, 0.595, 0.3135, 0.025, 0.2295, 0.27399999999999997, 0.14400000000000002, 0.29, 0.3035, 0.525, 0.35100000000000003, 0.315, 0.42100000000000004, 0.315, 0.25, 0.2495, 0.31, 0.042, 0.0305, 0.0315, 0.33, 0.3, 0.085, 0.16399999999999998, 0.139, 0.105, 0.27899999999999997, 0.182, 0.07, 0.07, 0.276, 0.11599999999999999, 0.17, 0.017, 0.0675, 0.225, 0.193, 0.435, 0.14, 0.2185, 0.27, 0.335, 0.165, 0.055, 0.503, 0.185, 0.165, 0.325, 0.3275, 0.4095, 0.146, 0.106, 0.1515, 0.341, 0.24, 0.305, 0.435, 0.03, 0.271, 0.073, 0.2365, 0.147, 0.13699999999999998, 0.39399999999999996, 0.24, 0.285, 0.33, 0.2755, 0.4125, 0.675, 0.035, 0.12, 0.59, 0.217, 0.195, 0.295, 0.43, 0.249, 0.1195, 0.16]\n"
          ]
        }
      ]
    },
    {
      "cell_type": "code",
      "source": [
        "plt.scatter(x, y, c=y_kmeans, s=1, cmap='cool') # Plot clustering results\n",
        "\n",
        "centers = kmeans.cluster_centers_ # Access centre points\n",
        "print(centers)\n",
        "\n",
        "plt.scatter(centers[:, 0], centers[:, 6], c='black', s=10, alpha=1); # Plot centre points"
      ],
      "metadata": {
        "colab": {
          "base_uri": "https://localhost:8080/",
          "height": 407
        },
        "id": "RAd3NcdV5IkW",
        "outputId": "d12833a9-d0c8-4538-a4b9-f118e0e60f54"
      },
      "execution_count": 28,
      "outputs": [
        {
          "output_type": "stream",
          "name": "stdout",
          "text": [
            "[[ 0.36617691  0.27593703  0.09122189  0.28890255  0.13252099  0.06232009\n",
            "   0.08204348  6.09895052]\n",
            " [ 0.59082151  0.46419622  0.16144799  1.11284338  0.47432388  0.24536584\n",
            "   0.32147222 11.95626478]\n",
            " [ 0.59051056  0.46799296  0.17036972  1.15535563  0.43112148  0.23948239\n",
            "   0.37704225 17.30633803]\n",
            " [ 0.540818    0.42038436  0.14221748  0.83804205  0.37801314  0.18455946\n",
            "   0.23392346  9.03613666]]\n"
          ]
        },
        {
          "output_type": "display_data",
          "data": {
            "image/png": "[encoded data removed]",
            "text/plain": [
              "<Figure size 432x288 with 1 Axes>"
            ]
          },
          "metadata": {
            "needs_background": "light"
          }
        }
      ]
    }
  ]
}