{
  "nbformat": 4,
  "nbformat_minor": 0,
  "metadata": {
    "colab": {
      "name": "fenxing.ipynb",
      "provenance": [],
      "collapsed_sections": [],
      "authorship_tag": "ABX9TyO84qUp4clH9bmZEJGOj3F2",
      "include_colab_link": true
    },
    "kernelspec": {
      "name": "python3",
      "display_name": "Python 3"
    },
    "language_info": {
      "name": "python"
    }
  },
  "cells": [
    {
      "cell_type": "markdown",
      "metadata": {
        "id": "view-in-github",
        "colab_type": "text"
      },
      "source": [
        "<a href=\"https://colab.research.google.com/github/AREAGAM/upgraded-adventure/blob/main/fenxing.ipynb\" target=\"_parent\"><img src=\"https://colab.research.google.com/assets/colab-badge.svg\" alt=\"Open In Colab\"/></a>"
      ]
    },
    {
      "cell_type": "code",
      "execution_count": 1,
      "metadata": {
        "id": "UaSWelfRkvKG"
      },
      "outputs": [],
      "source": [
        "from PIL import Image, ImageDraw\n",
        "from matplotlib import pyplot as plt\n",
        "import numpy as np\n",
        "from scipy.spatial import cKDTree"
      ]
    },
    {
      "cell_type": "code",
      "source": [
        "from scipy.spatial import Voronoi\n",
        "from skimage.draw import polygon\n",
        "import random\n",
        "\n",
        "def voronoi(points, size):\n",
        "    # Add points at edges to eliminate infinite ridges\n",
        "    edge_points = size*np.array([[-1, -1], [-1, 2], [2, -1], [2, 2]])\n",
        "    new_points = np.vstack([points, edge_points])\n",
        "    \n",
        "    # Calculate Voronoi tessellation\n",
        "    vor = Voronoi(new_points)    \n",
        "    return vor"
      ],
      "metadata": {
        "id": "Jx1Yo5FSkzqo"
      },
      "execution_count": 2,
      "outputs": []
    },
    {
      "cell_type": "code",
      "source": [
        "width = height = size = 3600\n",
        "n = 384\n",
        "\n",
        "x = np.random.randint(0, width, (n,))\n",
        "y = np.random.randint(0, height, (n,))\n",
        "\n",
        "points = np.vstack([x, y]).T\n",
        "\n",
        "cyan = (12, 236, 221)\n",
        "yellow = (255, 243, 56)\n",
        "pink = (196, 0, 255)\n",
        "magenta = (255, 103, 231)"
      ],
      "metadata": {
        "id": "8F47gVoek30y"
      },
      "execution_count": 3,
      "outputs": []
    },
    {
      "cell_type": "code",
      "source": [
        "new_points = points.copy()\n",
        "\n",
        "for k in range(100):\n",
        "    vor = voronoi(new_points, size)\n",
        "\n",
        "    im = Image.new('RGB', (width, height), (255, 255, 255))\n",
        "    draw = ImageDraw.Draw(im)\n",
        "\n",
        "    for i, point in enumerate(new_points):\n",
        "        circle_size = np.array([20, 20])\n",
        "        p1 = point - circle_size/2\n",
        "        p2 = point + circle_size/2\n",
        "        draw.ellipse((*p1, *p2), fill=(0, 0, 255))\n",
        "\n",
        "    new_points = []\n",
        "\n",
        "    for i, region in enumerate(vor.regions):\n",
        "        if len(region) == 0 or -1 in region: continue\n",
        "        poly = np.array([vor.vertices[i] for i in region])\n",
        "        \n",
        "        for i in range(len(poly)):\n",
        "            draw.line((*poly[-i], *poly[-i-1]), fill=(50, 50 ,50), width=5)\n",
        "\n",
        "        center = poly.mean(axis=0)\n",
        "        new_points.append(center)\n",
        "\n",
        "        circle_size = np.array([20, 20])\n",
        "        p1 = center - circle_size/2\n",
        "        p2 = center + circle_size/2\n",
        "        draw.ellipse((*p1, *p2), fill=(255, 0, 0))\n",
        "\n",
        "    new_points = np.array(new_points).clip(0, size)\n",
        "\n",
        "    im = im.crop((200, 1000, 3400, 2600))\n",
        "    im = im.resize((800, 400), resample=Image.ANTIALIAS)\n",
        "    "
      ],
      "metadata": {
        "id": "3StGOmkxk6qy"
      },
      "execution_count": 5,
      "outputs": []
    }
  ]
}